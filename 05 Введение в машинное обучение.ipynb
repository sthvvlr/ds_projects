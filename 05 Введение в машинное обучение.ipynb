{
 "cells": [
  {
   "cell_type": "markdown",
   "metadata": {},
   "source": [
    "<font color='blue'> \n",
    "### <u>КОММЕНТАРИЙ РЕВЬЮЕРА</u>\n",
    "</font>\n",
    "\n",
    "<font color='blue'>\n",
    "<br />\n",
    "Валерия, рад приветствовать ВАС! <br />\n",
    "<br />    \n",
    "\n",
    "<br />\n",
    "Меня зовут Николай. <br />И на этом этапе Вашего движения к новой профессии от меня будут комментарии по написанному коду. <br />Чтобы меньше \"мусорить эфир\" и чтобы максимально наглядно отделяться от основного кода, есть предложение условиться в некоторых обозначениях:<br /> <br />\n",
    "<u><b>ТАКОЙ ШРИФТ</b></u> - всегда начало комментария <br />\n",
    "<font color='green'>такой шрифт</font> - комментарии о том, что всё ОК <br/>\n",
    "<font color='orange'>такой шрифт</font> - комментарии о том, что всё ОК по результату,<br> однако есть на что обратить внимание в плане применения техник, или есть способы сделать более короткий или быстрый код <br/>\n",
    "<font color='red'>такой шрифт</font> - комментарии о том, что есть критичный момент, влияющий на бизнес-результат проекта.<br/>\n",
    "</font><br /><br />\n",
    "<font color='green'>Моей целью является не \"уличить\" в не знании, а просто высказать сверху Ваших знаний - свой опыт, что бы Вы могли использовать его для Вашего дальнейшего успеха)\n",
    "<br>\n",
    "</font>\n",
    "<br>\n",
    "\n",
    "</font>"
   ]
  },
  {
   "cell_type": "markdown",
   "metadata": {},
   "source": [
    "# <a id='7'>Рекомендация тарифов</a>"
   ]
  },
  {
   "cell_type": "markdown",
   "metadata": {},
   "source": [
    "В вашем распоряжении данные о поведении клиентов, которые уже перешли на эти тарифы (из проекта курса «Статистический анализ данных»). Нужно построить модель для задачи классификации, которая выберет подходящий тариф. Предобработка данных не понадобится — вы её уже сделали.\n",
    "\n",
    "Постройте модель с максимально большим значением *accuracy*. Чтобы сдать проект успешно, нужно довести долю правильных ответов по крайней мере до 0.75. Проверьте *accuracy* на тестовой выборке самостоятельно."
   ]
  },
  {
   "cell_type": "markdown",
   "metadata": {},
   "source": [
    "# Оглавление\n",
    "- [Изучение общей информации о файле](#1)\n",
    "- [Разделение данных на выборки](#2)\n",
    "- [Исследование моделей](#3)\n",
    "- [Проверка модели на тестовой выборке](#4)\n",
    "- [Проверка модели на адекватность](#5)\n",
    "- [Итоговый вывод](#6)"
   ]
  },
  {
   "cell_type": "markdown",
   "metadata": {},
   "source": [
    "## <a id='1'>1. Откройте и изучите файл</a>"
   ]
  },
  {
   "cell_type": "markdown",
   "metadata": {},
   "source": [
    "- [Перейти в начало проекта](#7)\n",
    "- [Перейти к следующему блоку](#2)"
   ]
  },
  {
   "cell_type": "markdown",
   "metadata": {},
   "source": [
    "Импортируем небходимые для работы библиотеки. "
   ]
  },
  {
   "cell_type": "code",
   "execution_count": 1,
   "metadata": {},
   "outputs": [],
   "source": [
    "import pandas as pd \n",
    "from IPython.display import display\n",
    "import joblib\n",
    "from sklearn.tree import DecisionTreeClassifier\n",
    "from sklearn.ensemble import RandomForestClassifier\n",
    "from sklearn.model_selection import train_test_split\n",
    "from sklearn.linear_model import LogisticRegression\n",
    "from sklearn.metrics import accuracy_score\n",
    "import random\n",
    "import numpy as np"
   ]
  },
  {
   "cell_type": "markdown",
   "metadata": {},
   "source": [
    "Импортируем датасет и посмотрим на содержащуюся в нем информацию. "
   ]
  },
  {
   "cell_type": "code",
   "execution_count": 2,
   "metadata": {},
   "outputs": [
    {
     "data": {
      "text/html": [
       "<div>\n",
       "<style scoped>\n",
       "    .dataframe tbody tr th:only-of-type {\n",
       "        vertical-align: middle;\n",
       "    }\n",
       "\n",
       "    .dataframe tbody tr th {\n",
       "        vertical-align: top;\n",
       "    }\n",
       "\n",
       "    .dataframe thead th {\n",
       "        text-align: right;\n",
       "    }\n",
       "</style>\n",
       "<table border=\"1\" class=\"dataframe\">\n",
       "  <thead>\n",
       "    <tr style=\"text-align: right;\">\n",
       "      <th></th>\n",
       "      <th>calls</th>\n",
       "      <th>minutes</th>\n",
       "      <th>messages</th>\n",
       "      <th>mb_used</th>\n",
       "      <th>is_ultra</th>\n",
       "    </tr>\n",
       "  </thead>\n",
       "  <tbody>\n",
       "    <tr>\n",
       "      <td>0</td>\n",
       "      <td>40.0</td>\n",
       "      <td>311.90</td>\n",
       "      <td>83.0</td>\n",
       "      <td>19915.42</td>\n",
       "      <td>0</td>\n",
       "    </tr>\n",
       "    <tr>\n",
       "      <td>1</td>\n",
       "      <td>85.0</td>\n",
       "      <td>516.75</td>\n",
       "      <td>56.0</td>\n",
       "      <td>22696.96</td>\n",
       "      <td>0</td>\n",
       "    </tr>\n",
       "    <tr>\n",
       "      <td>2</td>\n",
       "      <td>77.0</td>\n",
       "      <td>467.66</td>\n",
       "      <td>86.0</td>\n",
       "      <td>21060.45</td>\n",
       "      <td>0</td>\n",
       "    </tr>\n",
       "    <tr>\n",
       "      <td>3</td>\n",
       "      <td>106.0</td>\n",
       "      <td>745.53</td>\n",
       "      <td>81.0</td>\n",
       "      <td>8437.39</td>\n",
       "      <td>1</td>\n",
       "    </tr>\n",
       "    <tr>\n",
       "      <td>4</td>\n",
       "      <td>66.0</td>\n",
       "      <td>418.74</td>\n",
       "      <td>1.0</td>\n",
       "      <td>14502.75</td>\n",
       "      <td>0</td>\n",
       "    </tr>\n",
       "  </tbody>\n",
       "</table>\n",
       "</div>"
      ],
      "text/plain": [
       "   calls  minutes  messages   mb_used  is_ultra\n",
       "0   40.0   311.90      83.0  19915.42         0\n",
       "1   85.0   516.75      56.0  22696.96         0\n",
       "2   77.0   467.66      86.0  21060.45         0\n",
       "3  106.0   745.53      81.0   8437.39         1\n",
       "4   66.0   418.74       1.0  14502.75         0"
      ]
     },
     "execution_count": 2,
     "metadata": {},
     "output_type": "execute_result"
    }
   ],
   "source": [
    "data = pd.read_csv('/datasets/users_behavior.csv')\n",
    "data.head()"
   ]
  },
  {
   "cell_type": "markdown",
   "metadata": {},
   "source": [
    "Лишних столбцов у нас нет и все необходимые на месте. Посмотрим на информацию о датасете. "
   ]
  },
  {
   "cell_type": "code",
   "execution_count": 3,
   "metadata": {},
   "outputs": [
    {
     "name": "stdout",
     "output_type": "stream",
     "text": [
      "<class 'pandas.core.frame.DataFrame'>\n",
      "RangeIndex: 3214 entries, 0 to 3213\n",
      "Data columns (total 5 columns):\n",
      "calls       3214 non-null float64\n",
      "minutes     3214 non-null float64\n",
      "messages    3214 non-null float64\n",
      "mb_used     3214 non-null float64\n",
      "is_ultra    3214 non-null int64\n",
      "dtypes: float64(4), int64(1)\n",
      "memory usage: 125.7 KB\n"
     ]
    }
   ],
   "source": [
    "data.info()"
   ]
  },
  {
   "cell_type": "markdown",
   "metadata": {},
   "source": [
    "Пропущенных значений нет, всё отлично. Можем переходить к разбивке датасета на выборки. Предсказывать будем значение столбца `is_ultra`, где 1 - тариф \"Ультра\", 0 - тариф \"Смарт\"."
   ]
  },
  {
   "cell_type": "markdown",
   "metadata": {},
   "source": [
    "## Вывод"
   ]
  },
  {
   "cell_type": "markdown",
   "metadata": {},
   "source": [
    "Датасет импортировался корректно, все необходимые для построения модели столбцы есть. Пропущенных значений нет. "
   ]
  },
  {
   "cell_type": "markdown",
   "metadata": {},
   "source": [
    "<font color='blue'> \n",
    "### <u>КОММЕНТАРИЙ РЕВЬЮЕРА</u>\n",
    "</font>\n",
    "<font color='green'>\n",
    "ОК, понятно)<br>\n",
    "    \n",
    "В этом проекте не критично. Но на практике, в подобных проектах, на этом шаге важно поисследовать данные для моделей<br>\n",
    "Например, посмотерть гистограсммы (что с нормальностью/ненормальностью), боксплоты (есть ли выбросы).\n",
    "<br> Можно оценить корреляцию факторов друг с другом и с целевой переменной..<br>\n",
    "такие шаги - дают несколько идей сразу для моделей!!!<br>\n",
    "Например, если есть мультиколлинеаорность факторов (когда факторы модели имеют сильную связь друг с другом), то сразу можно один из них исключить.\n",
    "<br>\n",
    "</font>"
   ]
  },
  {
   "cell_type": "markdown",
   "metadata": {},
   "source": [
    "## <a id='2'>2. Разбейте данные на выборки</a>"
   ]
  },
  {
   "cell_type": "markdown",
   "metadata": {},
   "source": [
    "- [Перейти в начало проекта](#7)\n",
    "- [Перейти к предыдущему блоку](#1)\n",
    "- [Перейти к следующему блоку](#3)"
   ]
  },
  {
   "cell_type": "markdown",
   "metadata": {},
   "source": [
    "Разобьем датасет на обучающую, валидационную и тестовую выборки. Обучающая - 60% данных, валидационная и тестовая по 20%."
   ]
  },
  {
   "cell_type": "code",
   "execution_count": 4,
   "metadata": {},
   "outputs": [
    {
     "name": "stdout",
     "output_type": "stream",
     "text": [
      "<class 'pandas.core.frame.DataFrame'>\n",
      "Int64Index: 1928 entries, 619 to 1867\n",
      "Data columns (total 5 columns):\n",
      "calls       1928 non-null float64\n",
      "minutes     1928 non-null float64\n",
      "messages    1928 non-null float64\n",
      "mb_used     1928 non-null float64\n",
      "is_ultra    1928 non-null int64\n",
      "dtypes: float64(4), int64(1)\n",
      "memory usage: 90.4 KB\n",
      "<class 'pandas.core.frame.DataFrame'>\n",
      "Int64Index: 643 entries, 317 to 2535\n",
      "Data columns (total 5 columns):\n",
      "calls       643 non-null float64\n",
      "minutes     643 non-null float64\n",
      "messages    643 non-null float64\n",
      "mb_used     643 non-null float64\n",
      "is_ultra    643 non-null int64\n",
      "dtypes: float64(4), int64(1)\n",
      "memory usage: 30.1 KB\n",
      "<class 'pandas.core.frame.DataFrame'>\n",
      "Int64Index: 643 entries, 21 to 2652\n",
      "Data columns (total 5 columns):\n",
      "calls       643 non-null float64\n",
      "minutes     643 non-null float64\n",
      "messages    643 non-null float64\n",
      "mb_used     643 non-null float64\n",
      "is_ultra    643 non-null int64\n",
      "dtypes: float64(4), int64(1)\n",
      "memory usage: 30.1 KB\n",
      "None None None\n"
     ]
    }
   ],
   "source": [
    "df_train, df_valid1 = train_test_split(data, test_size=0.40, random_state=12)\n",
    "df_valid, df_test = train_test_split(df_valid1, test_size=0.50, random_state=12)\n",
    "print(df_train.info(), df_valid.info(), df_test.info())"
   ]
  },
  {
   "cell_type": "markdown",
   "metadata": {},
   "source": [
    "Сохраним признаки в отдельных переменных. "
   ]
  },
  {
   "cell_type": "code",
   "execution_count": 5,
   "metadata": {},
   "outputs": [],
   "source": [
    "features_train = df_train.drop(['is_ultra'], axis=1)\n",
    "target_train = df_train['is_ultra']\n",
    "\n",
    "features_valid = df_valid.drop(['is_ultra'], axis=1)\n",
    "target_valid = df_valid['is_ultra']\n",
    "\n",
    "features_test = df_test.drop(['is_ultra'], axis=1)\n",
    "target_test = df_test['is_ultra']"
   ]
  },
  {
   "cell_type": "markdown",
   "metadata": {},
   "source": [
    "<font color='blue'> \n",
    "### <u>КОММЕНТАРИЙ РЕВЬЮЕРА</u>\n",
    "</font>\n",
    "<font color='green'>\n",
    "принято, хорошо)"
   ]
  },
  {
   "cell_type": "markdown",
   "metadata": {},
   "source": [
    "Перейдем к тестированию различных моделей. "
   ]
  },
  {
   "cell_type": "markdown",
   "metadata": {},
   "source": [
    "## Вывод"
   ]
  },
  {
   "cell_type": "markdown",
   "metadata": {},
   "source": [
    "Мы разбили данные на выборки:\n",
    "- Обучающую - 60% данных\n",
    "- Валидационную - 20% данных\n",
    "- Тестовая - 20% данных"
   ]
  },
  {
   "cell_type": "markdown",
   "metadata": {},
   "source": [
    "## <a id='3'>3. Исследуйте модели</a>"
   ]
  },
  {
   "cell_type": "markdown",
   "metadata": {},
   "source": [
    "- [Перейти в начало проекта](#7)\n",
    "- [Перейти к предыдущему блоку](#2)\n",
    "- [Перейти к следующему блоку](#4)"
   ]
  },
  {
   "cell_type": "markdown",
   "metadata": {},
   "source": [
    "Протестируем решающее дерево, случайный лес и логистическую регрессию с различными гипермараметрами. Выберем модель с наиболее высоким показателем правильных ответов - accuracy (не менее 0.75). Решающее дерево и случайный лес будем тестировать в цикле. "
   ]
  },
  {
   "cell_type": "markdown",
   "metadata": {},
   "source": [
    "#### Решающее дерево"
   ]
  },
  {
   "cell_type": "code",
   "execution_count": 6,
   "metadata": {},
   "outputs": [
    {
     "name": "stdout",
     "output_type": "stream",
     "text": [
      "Значение accuracy модели решающего дерева с глубиной 2 : 0.7651632970451011\n",
      "Значение accuracy модели решающего дерева с глубиной 4 : 0.7682737169517885\n",
      "Значение accuracy модели решающего дерева с глубиной 6 : 0.7698289269051322\n",
      "Значение accuracy модели решающего дерева с глубиной 8 : 0.7682737169517885\n",
      "Значение accuracy модели решающего дерева с глубиной 10 : 0.7744945567651633\n"
     ]
    }
   ],
   "source": [
    "for depth in range(2, 11, 2):\n",
    "    model_tree = DecisionTreeClassifier(random_state=12, max_depth=depth)\n",
    "    model_tree.fit(features_train, target_train)\n",
    "    model_tree_accuracy = model_tree.score(features_valid, target_valid)\n",
    "    print('Значение accuracy модели решающего дерева с глубиной', depth, ':', model_tree_accuracy)"
   ]
  },
  {
   "cell_type": "markdown",
   "metadata": {},
   "source": [
    "Показатель правильных ответов у модели решающего дерева достаточно низкий - максимум 77%. Хоть это и выше необходимых нам 75%, но для большей уверенности протестируем другие модели. "
   ]
  },
  {
   "cell_type": "markdown",
   "metadata": {},
   "source": [
    "<font color='blue'> \n",
    "### <u>КОММЕНТАРИЙ РЕВЬЮЕРА</u>\n",
    "</font>\n",
    "<font color='green'>\n",
    "ок"
   ]
  },
  {
   "cell_type": "markdown",
   "metadata": {},
   "source": [
    "#### Случайный лес"
   ]
  },
  {
   "cell_type": "markdown",
   "metadata": {},
   "source": [
    "Для модели случайного леса возьмем значение max_depth, равное 10, - это лучшее значения по результатам тестирования решающего дерева. Значение глубины леса протестируем в цикле. "
   ]
  },
  {
   "cell_type": "code",
   "execution_count": 7,
   "metadata": {},
   "outputs": [
    {
     "name": "stdout",
     "output_type": "stream",
     "text": [
      "Значение accuracy модели случайного леса с глубиной 10 : 0.7807153965785381\n",
      "Значение accuracy модели случайного леса с глубиной 20 : 0.7978227060653188\n",
      "Значение accuracy модели случайного леса с глубиной 30 : 0.7962674961119751\n",
      "Значение accuracy модели случайного леса с глубиной 40 : 0.7900466562986003\n",
      "Значение accuracy модели случайного леса с глубиной 50 : 0.7931570762052877\n"
     ]
    }
   ],
   "source": [
    "for estim in range(10, 51, 10):\n",
    "    model_forest = RandomForestClassifier(n_estimators=estim, max_depth=10, random_state=12)\n",
    "    model_forest.fit(features_train, target_train)\n",
    "    model_forest_accuracy = model_forest.score(features_valid, target_valid)\n",
    "    print('Значение accuracy модели случайного леса с глубиной', estim, ':', model_forest_accuracy)"
   ]
  },
  {
   "cell_type": "markdown",
   "metadata": {},
   "source": [
    "Показатель правильных ответов у модели случайного леса выше, чем у модели решающего дерева. При этом среди всех моделей случайного леса, наибольший показатель правильных ответов у модели с глубиной 20. Проверим еще одну модель. "
   ]
  },
  {
   "cell_type": "markdown",
   "metadata": {},
   "source": [
    "#### Логистическая регрессия"
   ]
  },
  {
   "cell_type": "markdown",
   "metadata": {},
   "source": [
    "Проверим показатель правильных ответов у модели логистической регрессии. Скорость работы этой модели выше, поэтому при сходных с моделью случайного леса результатах, мы отдадим предпочтение модели логистической регрессии. Модель логистической регрессии не нуждается в настройке гиперпараметров. "
   ]
  },
  {
   "cell_type": "code",
   "execution_count": 8,
   "metadata": {},
   "outputs": [
    {
     "name": "stdout",
     "output_type": "stream",
     "text": [
      "Значение accuracy модели логистической регрессии: 0.6780715396578538\n"
     ]
    },
    {
     "name": "stderr",
     "output_type": "stream",
     "text": [
      "/opt/conda/lib/python3.7/site-packages/sklearn/linear_model/logistic.py:432: FutureWarning: Default solver will be changed to 'lbfgs' in 0.22. Specify a solver to silence this warning.\n",
      "  FutureWarning)\n"
     ]
    }
   ],
   "source": [
    "model_log = LogisticRegression(random_state=12)\n",
    "model_log.fit(features_train, target_train)\n",
    "model_log_accuracy = model_log.score(features_valid, target_valid)\n",
    "print('Значение accuracy модели логистической регрессии:', model_log_accuracy)"
   ]
  },
  {
   "cell_type": "markdown",
   "metadata": {},
   "source": [
    "Модель логистической регрессии не прошла проверку на показатель правильных ответов. Эту модель мы использовать не будем. "
   ]
  },
  {
   "cell_type": "markdown",
   "metadata": {},
   "source": [
    "#### Финальная доработка гиперпараметров"
   ]
  },
  {
   "cell_type": "markdown",
   "metadata": {},
   "source": [
    "Вернемся к модели случайного леса и попробуем поменять параметр max_depth. Посмотрим, изменится ли показатель правильных ответов в лучшую сторону. Значение n_estimators мы выбрали = 20. "
   ]
  },
  {
   "cell_type": "code",
   "execution_count": 9,
   "metadata": {},
   "outputs": [
    {
     "name": "stdout",
     "output_type": "stream",
     "text": [
      "Значение accuracy модели случайного леса с глубиной 2 : 0.7667185069984448\n",
      "Значение accuracy модели случайного леса с глубиной 3 : 0.7744945567651633\n",
      "Значение accuracy модели случайного леса с глубиной 4 : 0.7807153965785381\n",
      "Значение accuracy модели случайного леса с глубиной 5 : 0.7807153965785381\n",
      "Значение accuracy модели случайного леса с глубиной 6 : 0.7853810264385692\n",
      "Значение accuracy модели случайного леса с глубиной 7 : 0.7869362363919129\n",
      "Значение accuracy модели случайного леса с глубиной 8 : 0.7853810264385692\n",
      "Значение accuracy модели случайного леса с глубиной 9 : 0.7900466562986003\n",
      "Значение accuracy модели случайного леса с глубиной 10 : 0.7978227060653188\n"
     ]
    }
   ],
   "source": [
    "for depth in range(2, 11, 1):\n",
    "    model_forest = RandomForestClassifier(n_estimators=20, max_depth=depth, random_state=12)\n",
    "    model_forest.fit(features_train, target_train)\n",
    "    model_forest_accuracy = model_forest.score(features_valid, target_valid)\n",
    "    print('Значение accuracy модели случайного леса с глубиной', depth, ':', model_forest_accuracy)"
   ]
  },
  {
   "cell_type": "markdown",
   "metadata": {},
   "source": [
    "Лучшего показателя мы не нашли. Оставляем выбранные нами значения depth=10, n_estimators=20. Прееходим к тестированию модели на тестовой выборке. "
   ]
  },
  {
   "cell_type": "markdown",
   "metadata": {},
   "source": [
    "## Вывод "
   ]
  },
  {
   "cell_type": "markdown",
   "metadata": {},
   "source": [
    "Мы обучили и протестировали модели решающего дерева, случайного леса и логистической регрессии с различными гиперпараметрами. Самый высокий показатель правильных ответов (accuracy) мы получили на модели случайного леса с гиперпараметрами depth=10 и n_estimators = 20. Перейдем к проверке модели на тестовой выборке. "
   ]
  },
  {
   "cell_type": "markdown",
   "metadata": {},
   "source": [
    "<font color='blue'> \n",
    "### <u>КОММЕНТАРИЙ РЕВЬЮЕРА</u>\n",
    "</font>\n",
    "<font color='green'>\n",
    "принято)"
   ]
  },
  {
   "cell_type": "markdown",
   "metadata": {},
   "source": [
    "## <a id='4'>4. Проверьте модель на тестовой выборке</a>"
   ]
  },
  {
   "cell_type": "markdown",
   "metadata": {},
   "source": [
    "- [Перейти в начало проекта](#7)\n",
    "- [Перейти к предыдущему блоку](#3)\n",
    "- [Перейти к следующему блоку](#5)"
   ]
  },
  {
   "cell_type": "markdown",
   "metadata": {},
   "source": [
    "Проверим работу выбранной нами модели на тестовой выборке. "
   ]
  },
  {
   "cell_type": "code",
   "execution_count": 10,
   "metadata": {},
   "outputs": [
    {
     "name": "stdout",
     "output_type": "stream",
     "text": [
      "Значение accuracy итоговой модели случайного леса на тестовой выборке: 0.7822706065318819\n"
     ]
    }
   ],
   "source": [
    "true_model_forest = RandomForestClassifier(n_estimators=20, max_depth=10, random_state=12)\n",
    "true_model_forest.fit(features_train, target_train)\n",
    "true_model_forest_accuracy = true_model_forest.score(features_test, target_test)\n",
    "print('Значение accuracy итоговой модели случайного леса на тестовой выборке:', true_model_forest_accuracy)"
   ]
  },
  {
   "cell_type": "markdown",
   "metadata": {},
   "source": [
    "Показатель правильных ответов, равный 0.78 на тестовой выборке - это достаточно хороший результат. "
   ]
  },
  {
   "cell_type": "markdown",
   "metadata": {},
   "source": [
    "## Вывод"
   ]
  },
  {
   "cell_type": "markdown",
   "metadata": {},
   "source": [
    "Наша модель прошла итоговую проверку на тестовой выборке со значением 0.78, что превышает наше пороговое значение, равное 0.75. А значит, мы можем использовать эту модель. <br>\n",
    "Обозначим еще раз, что мы выбрали модель Случайного леса со значениями n_estimators=20, max_depth=10, random_state=12."
   ]
  },
  {
   "cell_type": "markdown",
   "metadata": {},
   "source": [
    "## <a id='5'>5. (бонус) Проверьте модели на адекватность</a>"
   ]
  },
  {
   "cell_type": "markdown",
   "metadata": {},
   "source": [
    "- [Перейти в начало проекта](#7)\n",
    "- [Перейти к предыдущему блоку](#4)\n",
    "- [Перейти к итоговому выводу](#6)"
   ]
  },
  {
   "cell_type": "markdown",
   "metadata": {},
   "source": [
    "Проверим модель на адекватность. Создадим объект Series со случайными значениями, равными 1 или 0. Проверим значение accuracy этих значений. Проверим длину target_test для создания соразмерного массива. "
   ]
  },
  {
   "cell_type": "code",
   "execution_count": 11,
   "metadata": {},
   "outputs": [
    {
     "name": "stdout",
     "output_type": "stream",
     "text": [
      "643\n"
     ]
    }
   ],
   "source": [
    "print(len(target_test))"
   ]
  },
  {
   "cell_type": "markdown",
   "metadata": {},
   "source": [
    "Создадим массив случайных чисел и преобразуем его в объект Series. "
   ]
  },
  {
   "cell_type": "code",
   "execution_count": 12,
   "metadata": {},
   "outputs": [
    {
     "name": "stdout",
     "output_type": "stream",
     "text": [
      "0    0\n",
      "1    0\n",
      "2    1\n",
      "3    1\n",
      "4    1\n",
      "dtype: int64\n"
     ]
    }
   ],
   "source": [
    "random = np.random.randint(0, 2, size = 643)\n",
    "target_random = pd.Series(random)\n",
    "print(target_random.head())"
   ]
  },
  {
   "cell_type": "markdown",
   "metadata": {},
   "source": [
    "Проверим показатель правильных ответов на случайной выборке значений. Предварительно создадим копию target_test, чтобы заменить индексы на порядковые (для совпадения индексов в цикле). "
   ]
  },
  {
   "cell_type": "code",
   "execution_count": 13,
   "metadata": {},
   "outputs": [
    {
     "name": "stdout",
     "output_type": "stream",
     "text": [
      "0.5101088646967341\n"
     ]
    }
   ],
   "source": [
    "target_test_copy = target_test.copy(deep=True)\n",
    "target_test_copy = target_test_copy.reset_index(drop=True)\n",
    "def error_count(answers, predictions):\n",
    "    count = 0\n",
    "    for i in range(len(answers)):\n",
    "        if answers[i] != predictions[i]:\n",
    "            count += 1\n",
    "    return count\n",
    "\n",
    "def accuracy(answers, predictions):\n",
    "    error = error_count(answers, predictions)\n",
    "    accuracy = (len(answers) - error) / len(answers)\n",
    "    return(accuracy)\n",
    "\n",
    "print(accuracy(target_test_copy, target_random))"
   ]
  },
  {
   "cell_type": "markdown",
   "metadata": {},
   "source": [
    "Мы использовали генератор рандомных чисел от 0 для 1, поэтому вероятность появления числа 0 или 1 в массиве равна 50%. Следовательно, и accuracy будет равно 50%. Это мы и доказали результатами функции выше. Accuracy выбранной нами модели (0.78) значительно больше accuracy рандомных чисел (0.5), а значит, модель прошла проверку на адекватность. "
   ]
  },
  {
   "cell_type": "markdown",
   "metadata": {},
   "source": [
    "<font color='blue'> \n",
    "### <u>КОММЕНТАРИЙ РЕВЬЮЕРА</u>\n",
    "</font>\n",
    "<font color='green'>\n",
    "Интеренсое исследование!!!<br>\n",
    "Под адекватностью можно понимать ещё и так: наша модель лучше для бизнеса, чем вообще без модели? <br>\n",
    "Т.е. СТоит вкладываться в DS или можно позвать \"деда Васю\" и он так, на глаз...<br>\n",
    "Когда модель прогнозирует колличественный параметр, например продажи в штуках, то модель сравнивают со средними продажами. Типа в среднем у нас продажи столько-то единиц товара будет завтра. Ну и сравнивают с предсказанием модели.<br>\n",
    "Когда модель предсказывает количесвто угадывания, как в данном проекте, то считают просто количество по выборке<br>\n",
    "    \n",
    "Ну вот например такая команда<br>\n",
    "df['is_ultra'].value_counts() / df.shape[0]<br>\n",
    "    \n",
    "покажет какая будет точность наличия 0.<br>\n",
    "И тут идёт сравнение: если точность модели > вот этой константной (нулевой), то значит модель лучше предсказывает и она адекватна для использования<br>"
   ]
  },
  {
   "cell_type": "markdown",
   "metadata": {},
   "source": [
    "## Вывод"
   ]
  },
  {
   "cell_type": "markdown",
   "metadata": {},
   "source": [
    "Мы проверили показатель правильных ответов для массива рандомных чисел. Как и ожидалось, он равен 0.5. Показатель правильных ответов у нашей модели равен 0.78, что доказывает адекватность модели. Модель действительно обучена и предсказывает значения, а не подставляет рандомные. "
   ]
  },
  {
   "cell_type": "markdown",
   "metadata": {},
   "source": [
    "# <a id='6'>Вывод</a>"
   ]
  },
  {
   "cell_type": "markdown",
   "metadata": {},
   "source": [
    "Мы обучили и протестировали модели решающего дерева, случайного леса и логистической регрессии с различными гиперпараметрами. Самый высокий показатель правильных ответов (accuracy) мы получили на модели случайного леса с гиперпараметрами depth=10 и n_estimators = 20.<br><br>\n",
    "Наша модель прошла итоговую проверку на тестовой выборке со значением 0.78, что превышает наше пороговое значение, равное 0.75. А значит, мы можем использовать эту модель.<br><br>\n",
    "Мы проверили показатель правильных ответов для массива рандомных чисел. Как и ожидалось, он равен 0.5. Показатель правильных ответов у нашей модели равен 0.78, что доказывает адекватность модели. Модель действительно обучена и предсказывает значения, а не подставляет рандомные."
   ]
  },
  {
   "cell_type": "markdown",
   "metadata": {},
   "source": [
    "<font color='blue'><u><b>КОММЕНТАРИЙ РЕВЬЮЕРА</b></u></font><br />\n",
    "<font color='green'>\n",
    "<br/> Валерия,  хорошая работа)<br>\n",
    "Всё лакончино, но логично, последовательно и с выводами - это важно.<br>\n",
    "В любой проект лучше добавлять графической интерпертации анализа данных. Это будет ещё больше придавать веса результатам<br>\n",
    "<br>\n",
    "Хотел озвучить ещё такой момент:<br>\n",
    "После подбора параметров модели, когда уже настаёт этап тестировани. Можно обучить ещё раз на обобщённой выборке (трайн + валидация) ну и тестировать потом<br> \n",
    "    \n",
    "Ещё момент:<br>  \n",
    "Наверное Вы это знаете, просто хочу напомнить: F1 и AUC - отличные метрики, но нужно держать в голове, что это лишь бобщённые характеристики. А в реальной практике бизнесу часто важно знать детали самой ошибки - из каких ошибок/успехов она складывается. И в этом случае очень кстати будут меры полноты и точности. Рассмотрите возможность их использования для своих проектов. Только через них можно выйти на финансовые возможности модели. Ведь перед запуском её в бой, будет сравнение стоимости создания и поддержки модели со стомостью \"оставить как есть\" \n",
    "    \n",
    "<br><br>СПАСИБО)<br>\n",
    " УДАЧИ В ДАЛЬНЕЙШЕМ ОБУЧЕНИИ!!!"
   ]
  },
  {
   "cell_type": "markdown",
   "metadata": {},
   "source": [
    "### [Перейти в начало проекта](#7)"
   ]
  },
  {
   "cell_type": "markdown",
   "metadata": {},
   "source": [
    "## Чек-лист готовности проекта"
   ]
  },
  {
   "cell_type": "markdown",
   "metadata": {},
   "source": [
    "Поставьте 'x' в выполненных пунктах. Далее нажмите Shift+Enter."
   ]
  },
  {
   "cell_type": "markdown",
   "metadata": {},
   "source": [
    "- [x] Jupyter Notebook открыт\n",
    "- [ ] Весь код исполняется без ошибок\n",
    "- [ ] Ячейки с кодом расположены в порядке исполнения\n",
    "- [ ] Выполнено задание 1: данные загружены и изучены\n",
    "- [ ] Выполнено задание 2: данные разбиты на три выборки\n",
    "- [ ] Выполнено задание 3: проведено исследование моделей\n",
    "    - [ ] Рассмотрено больше одной модели\n",
    "    - [ ] Рассмотрено хотя бы 3 значения гипепараметров для какой-нибудь модели\n",
    "    - [ ] Написаны выводы по результатам исследования\n",
    "- [ ] Выполнено задание 3: Проведено тестирование\n",
    "- [ ] Удалось достичь accuracy не меньше 0.75\n"
   ]
  },
  {
   "cell_type": "code",
   "execution_count": null,
   "metadata": {},
   "outputs": [],
   "source": []
  }
 ],
 "metadata": {
  "kernelspec": {
   "display_name": "Python 3",
   "language": "python",
   "name": "python3"
  },
  "language_info": {
   "codemirror_mode": {
    "name": "ipython",
    "version": 3
   },
   "file_extension": ".py",
   "mimetype": "text/x-python",
   "name": "python",
   "nbconvert_exporter": "python",
   "pygments_lexer": "ipython3",
   "version": "3.7.4"
  }
 },
 "nbformat": 4,
 "nbformat_minor": 2
}
