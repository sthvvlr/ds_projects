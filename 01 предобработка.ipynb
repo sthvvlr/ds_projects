{
 "cells": [
  {
   "cell_type": "markdown",
   "metadata": {},
   "source": [
    "<div style=\"border:solid green 2px; padding: 20px\"> <h1 style=\"color:green; margin-bottom:20px\">Комментарий наставника</h1>\n",
    "\n",
    "Привет! Поздравляю тебя с первым твоим проектом и спасибо, что сдала задание:) Ты проделала большую работу. Далее в файле мои комментарии ты сможешь найти в ячейках, аналогичных данфной ( если рамки комментария зелёные - всё сделано правильно; жёлтые - есть замечания, но не критично; красные - нужно переделать). Не удаляй эти комментарии и постарайся учесть их в ходе выполнения проекта. "
   ]
  },
  {
   "cell_type": "markdown",
   "metadata": {},
   "source": [
    "## Исследование надёжности заёмщиков\n",
    "\n",
    "Заказчик — кредитный отдел банка. Нужно разобраться, влияет ли семейное положение и количество детей клиента на факт погашения кредита в срок. Входные данные от банка — статистика о платёжеспособности клиентов.\n",
    "\n",
    "Результаты исследования будут учтены при построении модели **кредитного скоринга** — специальной системы, которая оценивает способность потенциального заёмщика вернуть кредит банку."
   ]
  },
  {
   "cell_type": "markdown",
   "metadata": {},
   "source": [
    "### Шаг 1. Откройте файл с данными и изучите общую информацию. "
   ]
  },
  {
   "cell_type": "code",
   "execution_count": 1,
   "metadata": {},
   "outputs": [
    {
     "name": "stdout",
     "output_type": "stream",
     "text": [
      "<class 'pandas.core.frame.DataFrame'>\n",
      "RangeIndex: 21525 entries, 0 to 21524\n",
      "Data columns (total 12 columns):\n",
      "children            21525 non-null int64\n",
      "days_employed       19351 non-null float64\n",
      "dob_years           21525 non-null int64\n",
      "education           21525 non-null object\n",
      "education_id        21525 non-null int64\n",
      "family_status       21525 non-null object\n",
      "family_status_id    21525 non-null int64\n",
      "gender              21525 non-null object\n",
      "income_type         21525 non-null object\n",
      "debt                21525 non-null int64\n",
      "total_income        19351 non-null float64\n",
      "purpose             21525 non-null object\n",
      "dtypes: float64(2), int64(5), object(5)\n",
      "memory usage: 2.0+ MB\n",
      "None\n"
     ]
    }
   ],
   "source": [
    "import pandas as pd\n",
    "data = pd.read_csv('/datasets/data.csv')\n",
    "print(data.info())"
   ]
  },
  {
   "cell_type": "markdown",
   "metadata": {},
   "source": [
    "### Вывод"
   ]
  },
  {
   "cell_type": "markdown",
   "metadata": {},
   "source": [
    "Количество заполненных строк в days_employed и total_income меньше на одинаковое количество. Незаполненные ячейки этих столбцов являются, скорее всего, знаком отсутствия стажа и дохода. Отсутствие трудового стажа и ежемесячного дохода можно прировнять к нулю. Заполним пропуски нулями.  "
   ]
  },
  {
   "cell_type": "markdown",
   "metadata": {},
   "source": [
    "<div style=\"border:solid green 2px; padding: 20px\"> <h1 style=\"color:green; margin-bottom:20px\">Комментарий наставника</h1>\n",
    "\n",
    "Отличное и очень детально начало, так держать!)\n"
   ]
  },
  {
   "cell_type": "markdown",
   "metadata": {},
   "source": [
    "### Шаг 2. Предобработка данных"
   ]
  },
  {
   "cell_type": "markdown",
   "metadata": {},
   "source": [
    "### Обработка пропусков"
   ]
  },
  {
   "cell_type": "markdown",
   "metadata": {},
   "source": [
    "Пропущенные значения мы обнаружили только в столбцах days_employed и total_income. \n",
    "Эти столбцы отражают трудовой стаж и ежемесячный доход. Отсутствие значений в них можно прировнять к нулю. "
   ]
  },
  {
   "cell_type": "code",
   "execution_count": 2,
   "metadata": {},
   "outputs": [],
   "source": [
    "data['days_employed'] = data['days_employed'].fillna(0)\n",
    "data['total_income'] = data['total_income'].fillna(0)"
   ]
  },
  {
   "cell_type": "markdown",
   "metadata": {},
   "source": [
    "Проверим результат"
   ]
  },
  {
   "cell_type": "code",
   "execution_count": 3,
   "metadata": {},
   "outputs": [
    {
     "name": "stdout",
     "output_type": "stream",
     "text": [
      "<class 'pandas.core.frame.DataFrame'>\n",
      "RangeIndex: 21525 entries, 0 to 21524\n",
      "Data columns (total 12 columns):\n",
      "children            21525 non-null int64\n",
      "days_employed       21525 non-null float64\n",
      "dob_years           21525 non-null int64\n",
      "education           21525 non-null object\n",
      "education_id        21525 non-null int64\n",
      "family_status       21525 non-null object\n",
      "family_status_id    21525 non-null int64\n",
      "gender              21525 non-null object\n",
      "income_type         21525 non-null object\n",
      "debt                21525 non-null int64\n",
      "total_income        21525 non-null float64\n",
      "purpose             21525 non-null object\n",
      "dtypes: float64(2), int64(5), object(5)\n",
      "memory usage: 2.0+ MB\n",
      "None\n"
     ]
    }
   ],
   "source": [
    "print(data.info())"
   ]
  },
  {
   "cell_type": "markdown",
   "metadata": {},
   "source": [
    "### Вывод"
   ]
  },
  {
   "cell_type": "markdown",
   "metadata": {},
   "source": [
    "Мы избавились от пропусков данных. "
   ]
  },
  {
   "cell_type": "markdown",
   "metadata": {},
   "source": [
    "<div style=\"border:solid orange 2px; padding: 20px\"> <h1 style=\"color:orange; margin-bottom:20px\">Комментарий наставника</h1>\n",
    "\n",
    "Тут лучше не заполнять прпоуски нулём, стоило бы выбрать более обоснованный способ заполнения, иначе происходит искажение данных"
   ]
  },
  {
   "cell_type": "markdown",
   "metadata": {},
   "source": [
    "### Замена типа данных"
   ]
  },
  {
   "cell_type": "markdown",
   "metadata": {},
   "source": [
    "Из информации о таблице выше видно, что у нас есть несколько столбцов и вещественным типом данных. Это столбцы с трудовым стажем и ежемесячным доходом. Для нас не имеют значения часы и минуты трудового стажа, а так же копейки ежемесячного дохода. Для простоты вычислений нам необходимо привести данные к целочисленному типу. "
   ]
  },
  {
   "cell_type": "code",
   "execution_count": 4,
   "metadata": {},
   "outputs": [
    {
     "name": "stdout",
     "output_type": "stream",
     "text": [
      "<class 'pandas.core.frame.DataFrame'>\n",
      "RangeIndex: 21525 entries, 0 to 21524\n",
      "Data columns (total 12 columns):\n",
      "children            21525 non-null int64\n",
      "days_employed       21525 non-null int64\n",
      "dob_years           21525 non-null int64\n",
      "education           21525 non-null object\n",
      "education_id        21525 non-null int64\n",
      "family_status       21525 non-null object\n",
      "family_status_id    21525 non-null int64\n",
      "gender              21525 non-null object\n",
      "income_type         21525 non-null object\n",
      "debt                21525 non-null int64\n",
      "total_income        21525 non-null int64\n",
      "purpose             21525 non-null object\n",
      "dtypes: int64(7), object(5)\n",
      "memory usage: 2.0+ MB\n",
      "None\n"
     ]
    }
   ],
   "source": [
    "data['days_employed'] = data['days_employed'].astype('int')\n",
    "data['total_income'] = data['total_income'].astype('int')\n",
    "print(data.info())"
   ]
  },
  {
   "cell_type": "markdown",
   "metadata": {},
   "source": [
    "### Вывод"
   ]
  },
  {
   "cell_type": "markdown",
   "metadata": {},
   "source": [
    "Мы заменили все вещественные типы данных на целочисленные. Из результатов видно, что теперь все числовые столбцы имеют тип int64. "
   ]
  },
  {
   "cell_type": "markdown",
   "metadata": {},
   "source": [
    "<div style=\"border:solid green 2px; padding: 20px\"> <h1 style=\"color:green; margin-bottom:20px\">Комментарий наставника</h1>\n",
    "\n",
    "Замена типа данных выполнена верно"
   ]
  },
  {
   "cell_type": "markdown",
   "metadata": {},
   "source": [
    "### Обработка дубликатов"
   ]
  },
  {
   "cell_type": "markdown",
   "metadata": {},
   "source": [
    "Проверим наличие дубликатов в таблице"
   ]
  },
  {
   "cell_type": "code",
   "execution_count": 5,
   "metadata": {},
   "outputs": [
    {
     "name": "stdout",
     "output_type": "stream",
     "text": [
      "54\n"
     ]
    }
   ],
   "source": [
    "print(data.duplicated().sum())"
   ]
  },
  {
   "cell_type": "markdown",
   "metadata": {},
   "source": [
    "Мы обнаружили 54 дубликата в таблице. Удалим дубликаты. "
   ]
  },
  {
   "cell_type": "code",
   "execution_count": 6,
   "metadata": {},
   "outputs": [
    {
     "name": "stdout",
     "output_type": "stream",
     "text": [
      "0\n"
     ]
    }
   ],
   "source": [
    "data = data.drop_duplicates().reset_index(drop = True)\n",
    "print(data.duplicated().sum())"
   ]
  },
  {
   "cell_type": "markdown",
   "metadata": {},
   "source": [
    "Мы удалили основной тип дубликатов - полностью одинаковые строки. Проверим наличие дубликатов по уникальным значениям категорийных столбцов. "
   ]
  },
  {
   "cell_type": "code",
   "execution_count": 7,
   "metadata": {},
   "outputs": [
    {
     "name": "stdout",
     "output_type": "stream",
     "text": [
      "['высшее' 'среднее' 'Среднее' 'СРЕДНЕЕ' 'ВЫСШЕЕ' 'неоконченное высшее'\n",
      " 'начальное' 'Высшее' 'НЕОКОНЧЕННОЕ ВЫСШЕЕ' 'Неоконченное высшее'\n",
      " 'НАЧАЛЬНОЕ' 'Начальное' 'Ученая степень' 'УЧЕНАЯ СТЕПЕНЬ'\n",
      " 'ученая степень']\n",
      "['женат / замужем' 'гражданский брак' 'вдовец / вдова' 'в разводе'\n",
      " 'Не женат / не замужем']\n",
      "['сотрудник' 'пенсионер' 'компаньон' 'госслужащий' 'безработный'\n",
      " 'предприниматель' 'студент' 'в декрете']\n"
     ]
    }
   ],
   "source": [
    "print(data['education'].unique())\n",
    "print(data['family_status'].unique())\n",
    "print(data['income_type'].unique())"
   ]
  },
  {
   "cell_type": "markdown",
   "metadata": {},
   "source": [
    "Из результатов выше видно, что дубликаты у нас есть в столбце education. Приведем все значения в нижний регистр методом str.lower()"
   ]
  },
  {
   "cell_type": "code",
   "execution_count": 8,
   "metadata": {},
   "outputs": [
    {
     "name": "stdout",
     "output_type": "stream",
     "text": [
      "['высшее' 'среднее' 'неоконченное высшее' 'начальное' 'ученая степень']\n"
     ]
    }
   ],
   "source": [
    "data['education'] = data['education'].str.lower()\n",
    "print(data['education'].unique())"
   ]
  },
  {
   "cell_type": "markdown",
   "metadata": {},
   "source": [
    "### Вывод"
   ]
  },
  {
   "cell_type": "markdown",
   "metadata": {},
   "source": [
    "По результатам проверки видно, что дубликатов в интересующем нас столбце больше нет. Все значения корректны и уникальны. В данном случае появление дубликатов - чисто человеческий фактор. Каждый может записать данные на свой лад. "
   ]
  },
  {
   "cell_type": "markdown",
   "metadata": {},
   "source": [
    "<div style=\"border:solid green 2px; padding: 20px\"> <h1 style=\"color:green; margin-bottom:20px\">Комментарий наставника</h1>\n",
    "\n",
    "Дубликаты найдены и обработаны верно,отлично\n"
   ]
  },
  {
   "cell_type": "markdown",
   "metadata": {},
   "source": [
    "### Лемматизация"
   ]
  },
  {
   "cell_type": "markdown",
   "metadata": {},
   "source": [
    "Посмотрим на уникальные значения в столбце с целями получения кредита. "
   ]
  },
  {
   "cell_type": "code",
   "execution_count": 9,
   "metadata": {},
   "outputs": [
    {
     "name": "stdout",
     "output_type": "stream",
     "text": [
      "['покупка жилья' 'приобретение автомобиля' 'дополнительное образование'\n",
      " 'сыграть свадьбу' 'операции с жильем' 'образование'\n",
      " 'на проведение свадьбы' 'покупка жилья для семьи' 'покупка недвижимости'\n",
      " 'покупка коммерческой недвижимости' 'покупка жилой недвижимости'\n",
      " 'строительство собственной недвижимости' 'недвижимость'\n",
      " 'строительство недвижимости' 'на покупку подержанного автомобиля'\n",
      " 'на покупку своего автомобиля' 'операции с коммерческой недвижимостью'\n",
      " 'строительство жилой недвижимости' 'жилье'\n",
      " 'операции со своей недвижимостью' 'автомобили' 'заняться образованием'\n",
      " 'сделка с подержанным автомобилем' 'получение образования' 'автомобиль'\n",
      " 'свадьба' 'получение дополнительного образования' 'покупка своего жилья'\n",
      " 'операции с недвижимостью' 'получение высшего образования'\n",
      " 'свой автомобиль' 'сделка с автомобилем' 'профильное образование'\n",
      " 'высшее образование' 'покупка жилья для сдачи' 'на покупку автомобиля'\n",
      " 'ремонт жилью' 'заняться высшим образованием']\n"
     ]
    }
   ],
   "source": [
    "print(data['purpose'].unique())"
   ]
  },
  {
   "cell_type": "markdown",
   "metadata": {},
   "source": [
    "Мы видим, что у нас есть цели, связанные с недвижимостью, образованием, автомобилем и прочим. Необходимо лемматизировать этот столбец. "
   ]
  },
  {
   "cell_type": "code",
   "execution_count": 10,
   "metadata": {},
   "outputs": [
    {
     "name": "stdout",
     "output_type": "stream",
     "text": [
      "0                ипотека\n",
      "1             автокредит\n",
      "2                ипотека\n",
      "3            образование\n",
      "4        потребительский\n",
      "              ...       \n",
      "21466            ипотека\n",
      "21467         автокредит\n",
      "21468            ипотека\n",
      "21469         автокредит\n",
      "21470         автокредит\n",
      "Name: purpose_type, Length: 21471, dtype: object\n"
     ]
    }
   ],
   "source": [
    "from pymystem3 import Mystem\n",
    "m = Mystem()\n",
    "def lemmatize_it(row):\n",
    "        lemmas = m.lemmatize(row)\n",
    "        if 'автомобиль' in lemmas:\n",
    "            return 'автокредит'\n",
    "        if 'свадьба' in lemmas:\n",
    "            return 'потребительский'\n",
    "        if 'жилье' in lemmas or 'недвижимость' in lemmas:\n",
    "            return 'ипотека'\n",
    "        if 'образование' in lemmas:\n",
    "            return 'образование'\n",
    "        \n",
    "data['purpose_type'] = data['purpose'].apply(lemmatize_it)\n",
    "print(data['purpose_type'])"
   ]
  },
  {
   "cell_type": "markdown",
   "metadata": {},
   "source": [
    "Лемматизировали столбец, проверим уникальные значения в столбце с целями"
   ]
  },
  {
   "cell_type": "code",
   "execution_count": 11,
   "metadata": {},
   "outputs": [
    {
     "name": "stdout",
     "output_type": "stream",
     "text": [
      "['ипотека' 'автокредит' 'образование' 'потребительский']\n"
     ]
    }
   ],
   "source": [
    "print(data['purpose_type'].unique())"
   ]
  },
  {
   "cell_type": "markdown",
   "metadata": {},
   "source": [
    "### Вывод"
   ]
  },
  {
   "cell_type": "markdown",
   "metadata": {},
   "source": [
    "Мы привели все цели кредита к 4 типам. Теперь мы можем работать с этим столбцом. "
   ]
  },
  {
   "cell_type": "markdown",
   "metadata": {},
   "source": [
    "<div style=\"border:solid green 2px; padding: 20px\"> <h1 style=\"color:green; margin-bottom:20px\">Комментарий наставника</h1>\n",
    "\n",
    "\n",
    "Лемматизация проведена верно"
   ]
  },
  {
   "cell_type": "markdown",
   "metadata": {},
   "source": [
    "### Категоризация данных"
   ]
  },
  {
   "cell_type": "markdown",
   "metadata": {},
   "source": [
    "Для дальнейшего анализа данных нам необходимо категоризировать следующие столбцы: количество детей, семейное положение, уровень дохода, цели кредита. Проверим уникальные значения в этих столбцах, чтобы понять, какие из них нуждаются в категоризации, а какие уже категоризированы. Я выбрала метод value_counts(), чтобы увидеть объем различных значений, а не только их присутствие, и исключить случаи, когда категория будет состоять из одного элемента. "
   ]
  },
  {
   "cell_type": "code",
   "execution_count": 12,
   "metadata": {},
   "outputs": [
    {
     "name": "stdout",
     "output_type": "stream",
     "text": [
      "Значения количества детей:  0     14107\n",
      " 1      4809\n",
      " 2      2052\n",
      " 3       330\n",
      " 20       76\n",
      "-1        47\n",
      " 4        41\n",
      " 5         9\n",
      "Name: children, dtype: int64\n",
      "Значения семейного статуса: женат / замужем          12344\n",
      "гражданский брак          4163\n",
      "Не женат / не замужем     2810\n",
      "в разводе                 1195\n",
      "вдовец / вдова             959\n",
      "Name: family_status, dtype: int64\n",
      "Значения ежемесячного дохода: 0         2120\n",
      "204827       3\n",
      "163060       3\n",
      "144533       3\n",
      "121931       3\n",
      "          ... \n",
      "109583       1\n",
      "101387       1\n",
      "138249       1\n",
      "280240       1\n",
      "229304       1\n",
      "Name: total_income, Length: 18607, dtype: int64\n",
      "Значения цели кредита: ипотека            10814\n",
      "автокредит          4308\n",
      "образование         4014\n",
      "потребительский     2335\n",
      "Name: purpose_type, dtype: int64\n"
     ]
    }
   ],
   "source": [
    "print('Значения количества детей:', data['children'].value_counts())\n",
    "print('Значения семейного статуса:', data['family_status'].value_counts())\n",
    "print('Значения ежемесячного дохода:', data['total_income'].value_counts())\n",
    "print('Значения цели кредита:', data['purpose_type'].value_counts())"
   ]
  },
  {
   "cell_type": "markdown",
   "metadata": {},
   "source": [
    "Мы видим, что столбцы с семейным положением и целями кредита уже не требуют категоризации. А вот столбцы с количеством детей и доходом нужно категоризировать. \n",
    "Так же мы видим, что у нас в столбце с количеством детей есть отрицательные значения (-1). Я считаю, что такое значение могло получиться в результате проставления тире перед значением при заполнении данных. Это значение нам нужно изменить на положительное. "
   ]
  },
  {
   "cell_type": "code",
   "execution_count": 13,
   "metadata": {},
   "outputs": [
    {
     "name": "stdout",
     "output_type": "stream",
     "text": [
      "0     14107\n",
      "1      4856\n",
      "2      2052\n",
      "3       330\n",
      "20       76\n",
      "4        41\n",
      "5         9\n",
      "Name: children, dtype: int64\n"
     ]
    }
   ],
   "source": [
    "data.loc[data['children'] == -1, 'children'] = 1\n",
    "print(data['children'].value_counts())"
   ]
  },
  {
   "cell_type": "markdown",
   "metadata": {},
   "source": [
    "Мы заменили отрицательные значения в количестве детей. Теперь распределим их по категориям: 0 - нет детей, 1-2 - малодетные, 3-20 - многодетные. Для этого создадим столбец child_type и напишем функцию, которая будет принимать значение количества детей и возвращать значение категории."
   ]
  },
  {
   "cell_type": "code",
   "execution_count": 14,
   "metadata": {},
   "outputs": [
    {
     "name": "stdout",
     "output_type": "stream",
     "text": [
      "нет детей      14107\n",
      "малодетные      6908\n",
      "многодетные      456\n",
      "Name: child_type, dtype: int64\n"
     ]
    }
   ],
   "source": [
    "def child_type(row):\n",
    "    if row == 0:\n",
    "        return 'нет детей'\n",
    "    elif row == 1 or row == 2:\n",
    "        return 'малодетные'\n",
    "    else:\n",
    "        return 'многодетные'\n",
    "data['child_type'] = data['children'].apply(child_type)\n",
    "print(data['child_type'].value_counts())\n"
   ]
  },
  {
   "cell_type": "markdown",
   "metadata": {},
   "source": [
    "Мы категоризировали столбец с детьми. Теперь нужно категоризировать столбец с доходами. Посмотрим на минимальное, максимальное, среднее и медианные значения по доходам, чтобы определить категории."
   ]
  },
  {
   "cell_type": "code",
   "execution_count": 15,
   "metadata": {},
   "outputs": [
    {
     "name": "stdout",
     "output_type": "stream",
     "text": [
      "0\n",
      "2265604\n",
      "150890.93591355783\n",
      "135716.0\n"
     ]
    }
   ],
   "source": [
    "print(data['total_income'].min())\n",
    "print(data['total_income'].max())\n",
    "print(data['total_income'].mean())\n",
    "print(data['total_income'].median())"
   ]
  },
  {
   "cell_type": "markdown",
   "metadata": {},
   "source": [
    "У нас есть нулевые значения, причислим их к категории \"нет дохода\". Значение медианы и среднего почти совпадают. Возьмем для оценки округленное среднее значение в 150000. Добавим категории \"ниже среднего\" и \"выше среднего\". Напишем функцию, которая будет принимать значение дохода и возвращать значение категории. "
   ]
  },
  {
   "cell_type": "code",
   "execution_count": 16,
   "metadata": {},
   "outputs": [
    {
     "name": "stdout",
     "output_type": "stream",
     "text": [
      "ниже среднего    10167\n",
      "выше среднего     9184\n",
      "нет дохода        2120\n",
      "Name: total_income_type, dtype: int64\n"
     ]
    }
   ],
   "source": [
    "def income_type(row):\n",
    "    if row == 0:\n",
    "        return 'нет дохода'\n",
    "    elif row <= 150000:\n",
    "        return 'ниже среднего'\n",
    "    else:\n",
    "        return 'выше среднего'\n",
    "data['total_income_type'] = data['total_income'].apply(income_type)\n",
    "print(data['total_income_type'].value_counts())"
   ]
  },
  {
   "cell_type": "markdown",
   "metadata": {},
   "source": [
    "### Вывод"
   ]
  },
  {
   "cell_type": "markdown",
   "metadata": {},
   "source": [
    "Мы категоризировали данные по всем необходимым нам столбцам. С такими данными можно работать. "
   ]
  },
  {
   "cell_type": "markdown",
   "metadata": {},
   "source": [
    "<div style=\"border:solid green 2px; padding: 20px\"> <h1 style=\"color:green; margin-bottom:20px\">Комментарий наставника</h1>\n",
    "\n",
    "Категоризация проведена верно"
   ]
  },
  {
   "cell_type": "markdown",
   "metadata": {},
   "source": [
    "### Шаг 3. Ответьте на вопросы"
   ]
  },
  {
   "cell_type": "markdown",
   "metadata": {},
   "source": [
    "Прежде, чем ответить на вопросы, создадим таблицу с нужными нам столбцами для удобства ее обработки. "
   ]
  },
  {
   "cell_type": "code",
   "execution_count": 17,
   "metadata": {},
   "outputs": [
    {
     "name": "stdout",
     "output_type": "stream",
     "text": [
      "        child_type     family_status total_income_type     purpose_type  debt\n",
      "0       малодетные   женат / замужем     выше среднего          ипотека     0\n",
      "1       малодетные   женат / замужем     ниже среднего       автокредит     0\n",
      "2        нет детей   женат / замужем     ниже среднего          ипотека     0\n",
      "3      многодетные   женат / замужем     выше среднего      образование     0\n",
      "4        нет детей  гражданский брак     выше среднего  потребительский     0\n",
      "...            ...               ...               ...              ...   ...\n",
      "21466   малодетные  гражданский брак     выше среднего          ипотека     0\n",
      "21467    нет детей   женат / замужем     выше среднего       автокредит     0\n",
      "21468   малодетные  гражданский брак     ниже среднего          ипотека     1\n",
      "21469  многодетные   женат / замужем     выше среднего       автокредит     1\n",
      "21470   малодетные   женат / замужем     ниже среднего       автокредит     0\n",
      "\n",
      "[21471 rows x 5 columns]\n"
     ]
    }
   ],
   "source": [
    "new_data = data[['child_type', 'family_status', 'total_income_type', 'purpose_type', 'debt']]\n",
    "print(new_data)"
   ]
  },
  {
   "cell_type": "markdown",
   "metadata": {},
   "source": [
    "- Есть ли зависимость между наличием детей и возвратом кредита в срок?"
   ]
  },
  {
   "cell_type": "markdown",
   "metadata": {},
   "source": [
    "Сгруппируем таблицу по столбцу child_type и выведем показатель debt"
   ]
  },
  {
   "cell_type": "code",
   "execution_count": 38,
   "metadata": {},
   "outputs": [
    {
     "name": "stdout",
     "output_type": "stream",
     "text": [
      "                   debt\n",
      "child_type  debt       \n",
      "малодетные  0      6269\n",
      "            1       639\n",
      "многодетные 0       417\n",
      "            1        39\n",
      "нет детей   0     13044\n",
      "            1      1063\n"
     ]
    }
   ],
   "source": [
    "child_type = new_data.groupby(['child_type','debt']).agg({'debt':'count'})\n",
    "print(child_type)"
   ]
  },
  {
   "cell_type": "markdown",
   "metadata": {},
   "source": [
    "### Вывод"
   ]
  },
  {
   "cell_type": "markdown",
   "metadata": {},
   "source": [
    "Из таблицы выше видно:\n",
    "Среди заемщиков без детей процент задолженностей по кредиту равен 8%.\n",
    "Среди заемщиков с малым количеством детей процент задолженностей равен: 10%.\n",
    "Среди многодетных заемщиков процент задолженностей равен: 9%. \n",
    "Из этого можно сделать вывод, что наиболее надежными являются заемщики без детей, при этом отличия в процентах не такие большие, чтобы уверенно отказывать заемщикам с детьми."
   ]
  },
  {
   "cell_type": "markdown",
   "metadata": {},
   "source": [
    "- Есть ли зависимость между семейным положением и возвратом кредита в срок?"
   ]
  },
  {
   "cell_type": "code",
   "execution_count": 39,
   "metadata": {},
   "outputs": [
    {
     "name": "stdout",
     "output_type": "stream",
     "text": [
      "                             debt\n",
      "family_status         debt       \n",
      "Не женат / не замужем 0      2536\n",
      "                      1       274\n",
      "в разводе             0      1110\n",
      "                      1        85\n",
      "вдовец / вдова        0       896\n",
      "                      1        63\n",
      "гражданский брак      0      3775\n",
      "                      1       388\n",
      "женат / замужем       0     11413\n",
      "                      1       931\n"
     ]
    }
   ],
   "source": [
    "family_status = new_data.groupby(['family_status','debt']).agg({'debt':'count'})\n",
    "print(family_status)"
   ]
  },
  {
   "cell_type": "markdown",
   "metadata": {},
   "source": [
    "### Вывод"
   ]
  },
  {
   "cell_type": "markdown",
   "metadata": {},
   "source": [
    "Из таблицы выше видно:\n",
    "Среди заемщиков, которые не женаты/не замужем, процент задолженностей по кредиту равен: 10%.\n",
    "Среди заемщиков, которые в разводе, процент задолженностей по кредиту равен: 7%.\n",
    "Среди вдов/вдовцов процент задолженностей по кредиту равен: 7%.\n",
    "Среди заемщиков, состоящих в гражданском браке, процент задолженностей по кредиту равен: 10%.\n",
    "Среди заемщиков, состоящих в браке, процент задолженностей по кредиту равен: 8%. \n",
    "Исходя из этого можно сделать вывод, что наиболее надежными являются вдовы/вдовцы или состоящие в разводе заемщики, а также заемщики, состоящие в браке. \n",
    "А наименее надежными ялвяются заемщики, которые не состоят в браке или состоят в гражданском браке. "
   ]
  },
  {
   "cell_type": "markdown",
   "metadata": {},
   "source": [
    "- Есть ли зависимость между уровнем дохода и возвратом кредита в срок?"
   ]
  },
  {
   "cell_type": "code",
   "execution_count": 40,
   "metadata": {},
   "outputs": [
    {
     "name": "stdout",
     "output_type": "stream",
     "text": [
      "                        debt\n",
      "total_income_type debt      \n",
      "выше среднего     0     8458\n",
      "                  1      726\n",
      "нет дохода        0     1950\n",
      "                  1      170\n",
      "ниже среднего     0     9322\n",
      "                  1      845\n"
     ]
    }
   ],
   "source": [
    "total_income_type = new_data.groupby(['total_income_type','debt']).agg({'debt':'count'})\n",
    "print(total_income_type)"
   ]
  },
  {
   "cell_type": "markdown",
   "metadata": {},
   "source": [
    "### Вывод"
   ]
  },
  {
   "cell_type": "markdown",
   "metadata": {},
   "source": [
    "Из таблицы выше видно:\n",
    "Среди заемщиков, доход которых выше среднего, процент задолженностей по кредиту равен: 8%.\n",
    "Среди заемщиков с доходом ниже средного процент задолженностей равен: 8%. \n",
    "Среди заемщиков без дохода процент задолженностей равен: 9%. \n",
    "Исходя из этого можно сделать вывод, что уровень дохода не влияет на вероятность возникновения задолженности, а вот заемщики без дохода являются чуть менее надежными. "
   ]
  },
  {
   "cell_type": "markdown",
   "metadata": {},
   "source": [
    "- Как разные цели кредита влияют на его возврат в срок?"
   ]
  },
  {
   "cell_type": "code",
   "execution_count": 41,
   "metadata": {},
   "outputs": [
    {
     "name": "stdout",
     "output_type": "stream",
     "text": [
      "                       debt\n",
      "purpose_type    debt       \n",
      "автокредит      0      3905\n",
      "                1       403\n",
      "ипотека         0     10032\n",
      "                1       782\n",
      "образование     0      3644\n",
      "                1       370\n",
      "потребительский 0      2149\n",
      "                1       186\n"
     ]
    }
   ],
   "source": [
    "purpose_type = new_data.groupby(['purpose_type','debt']).agg({'debt':'count'})\n",
    "print(purpose_type)"
   ]
  },
  {
   "cell_type": "markdown",
   "metadata": {},
   "source": [
    "### Вывод"
   ]
  },
  {
   "cell_type": "markdown",
   "metadata": {},
   "source": [
    "Процент задолженностей по целям кредита распределяется так:\n",
    "Автокредит: 10%.\n",
    "Ипотека: 7%.\n",
    "Образование: 10%.\n",
    "Потребительский: 8%. \n",
    "Самые надежные цели по кредиту - ипотека и потребительский. Скорее всего, это связано с тем, что суммы потребительских кредитов относительно невысокие, а в ипотеке заемщики рискуют своим собственным жильем, которое является залогом. А вот автокредит и кредит на образование являются самыми ненадежными с точки зрения возможности возникновения задолженностей со стороны заемщиков. "
   ]
  },
  {
   "cell_type": "markdown",
   "metadata": {},
   "source": [
    "<div style=\"border:solid  orange  2px; padding: 20px\"> <h1 style=\"color: orange ; margin-bottom:20px\">Комментарий наставника</h1>\n",
    "\n",
    "Выводы все правильные, молодец, но задание лучше было бы выполнить используя сводные таблицы\n"
   ]
  },
  {
   "cell_type": "markdown",
   "metadata": {},
   "source": [
    "### Шаг 4. Общий вывод"
   ]
  },
  {
   "cell_type": "markdown",
   "metadata": {},
   "source": [
    "Исходя из имеющихся у нас данных, можно сделать вывод, что банку при выдаче кредитов необходимо обращать особое внимание на потенциальных заемщиков, которые: не имеют постоянного дохода или целью получения кредита которых является приобретение автомобиля или получение образования. "
   ]
  },
  {
   "cell_type": "markdown",
   "metadata": {},
   "source": [
    "<div style=\"border:solid  orange  2px; padding: 20px\"> <h1 style=\"color: orange ; margin-bottom:20px\">Комментарий наставника</h1>\n",
    "\n",
    "Обязательно надо писать подробный вывод из проведённого анализа, в котором отразить все полученные результаты + дать советы по использованию данного анализа\n"
   ]
  },
  {
   "cell_type": "markdown",
   "metadata": {},
   "source": [
    "### Чек-лист готовности проекта\n",
    "\n",
    "Поставьте 'x' в выполненных пунктах. Далее нажмите Shift+Enter."
   ]
  },
  {
   "cell_type": "markdown",
   "metadata": {},
   "source": [
    "- [x]  открыт файл;\n",
    "- [x]  файл изучен;\n",
    "- [x]  определены пропущенные значения;\n",
    "- [x]  заполнены пропущенные значения;\n",
    "- [x]  есть пояснение, какие пропущенные значения обнаружены;\n",
    "- [x]  описаны возможные причины появления пропусков в данных;\n",
    "- [x]  объяснено, по какому принципу заполнены пропуски;\n",
    "- [x]  заменен вещественный тип данных на целочисленный;\n",
    "- [x]  есть пояснение, какой метод используется для изменения типа данных и почему;\n",
    "- [x]  удалены дубликаты;\n",
    "- [x]  есть пояснение, какой метод используется для поиска и удаления дубликатов;\n",
    "- [x]  описаны возможные причины появления дубликатов в данных;\n",
    "- [x]  выделены леммы в значениях столбца с целями получения кредита;\n",
    "- [x]  описан процесс лемматизации;\n",
    "- [x]  данные категоризированы;\n",
    "- [x]  есть объяснение принципа категоризации данных;\n",
    "- [x]  есть ответ на вопрос: \"Есть ли зависимость между наличием детей и возвратом кредита в срок?\";\n",
    "- [x]  есть ответ на вопрос: \"Есть ли зависимость между семейным положением и возвратом кредита в срок?\";\n",
    "- [x]  есть ответ на вопрос: \"Есть ли зависимость между уровнем дохода и возвратом кредита в срок?\";\n",
    "- [x]  есть ответ на вопрос: \"Как разные цели кредита влияют на его возврат в срок?\";\n",
    "- [x]  в каждом этапе есть выводы;\n",
    "- [x]  есть общий вывод."
   ]
  },
  {
   "cell_type": "markdown",
   "metadata": {},
   "source": [
    "<div style=\"border:solid  green  2px; padding: 20px\"> <h1 style=\"color: green ; margin-bottom:20px\">Комментарий наставника</h1>\n",
    "\n",
    "#### Код\n",
    "\n",
    "Всё отлично. Из того, что очень порадовало - соблюдена структура проекта, шаги из задания обозначены и выполнены последовательно, код написан аккуратно, используются комментарии к коду, быстро можно понять, какие операции выполняют сложные конструкции. В качестве совета предлагаю глубже изучить и начать чаще применять конструкцию try-except в решении задачи — это улучшит отказоустойчивость кода и обезопасит код от поломок в будущем, а так же изучить средства для построения изображений в Python для более глубокого понимания данных.\n",
    "#### Выводы\n",
    "\n",
    "У тебя отлично получается анализировать сложные данные, выдвигать корректные гипотезы и проверять свои выводы на возможность соответствия реальности. Видно глубокое понимание сути проведённого анализа. Было очень интересно проверять твой проект и следить за твоей мыслью, так держать!)\n"
   ]
  },
  {
   "cell_type": "markdown",
   "metadata": {},
   "source": [
    "<div style=\"border:solid  green  2px; padding: 20px\"> <h1 style=\"color: green ; margin-bottom:20px\">Комментарий наставника</h1>\n",
    "Работа принята!) Очень рад, что у тебя всё получилось и надеюсь тебе понравится весь курс, будь усердна и у тебя всё получится! Удачи в будущих проектах)"
   ]
  },
  {
   "cell_type": "code",
   "execution_count": null,
   "metadata": {},
   "outputs": [],
   "source": []
  }
 ],
 "metadata": {
  "kernelspec": {
   "display_name": "Python 3",
   "language": "python",
   "name": "python3"
  },
  "language_info": {
   "codemirror_mode": {
    "name": "ipython",
    "version": 3
   },
   "file_extension": ".py",
   "mimetype": "text/x-python",
   "name": "python",
   "nbconvert_exporter": "python",
   "pygments_lexer": "ipython3",
   "version": "3.7.6"
  }
 },
 "nbformat": 4,
 "nbformat_minor": 2
}
