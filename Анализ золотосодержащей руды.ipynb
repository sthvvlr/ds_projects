{
 "cells": [
  {
   "cell_type": "markdown",
   "metadata": {},
   "source": [
    "# Описание проекта\n",
    "\n",
    "Подготовьте прототип модели машинного обучения для «Цифры». Компания разрабатывает решения для эффективной работы промышленных предприятий.\n",
    "\n",
    "Модель должна предсказать коэффициент восстановления золота из золотосодержащей руды. В вашем распоряжении данные с параметрами добычи и очистки. \n",
    "\n",
    "Модель поможет оптимизировать производство, чтобы не запускать предприятие с убыточными характеристиками.\n",
    "\n",
    "Вам нужно:\n",
    "\n",
    "1. Подготовить данные;\n",
    "2. Провести исследовательский анализ данных;\n",
    "3. Построить и обучить модель.\n"
   ]
  },
  {
   "cell_type": "markdown",
   "metadata": {},
   "source": [
    "# 1. Подготовка данных"
   ]
  },
  {
   "cell_type": "markdown",
   "metadata": {},
   "source": [
    "Импортируем необходимые для работы библиотеки. "
   ]
  },
  {
   "cell_type": "code",
   "execution_count": 1,
   "metadata": {},
   "outputs": [],
   "source": [
    "%matplotlib inline\n",
    "import pandas as pd \n",
    "import matplotlib.pyplot as plt\n",
    "import seaborn as sns\n",
    "import numpy as np \n",
    "from pylab import rcParams\n",
    "rcParams['figure.figsize'] = 11, 7\n",
    "import joblib\n",
    "from sklearn.model_selection import train_test_split\n",
    "from sklearn.linear_model import LinearRegression\n",
    "from sklearn.tree import DecisionTreeRegressor\n",
    "from sklearn.ensemble import RandomForestRegressor\n",
    "from sklearn.model_selection import GridSearchCV\n",
    "from sklearn.metrics import confusion_matrix\n",
    "from sklearn.metrics import mean_squared_error\n",
    "import numpy as np\n",
    "import scipy.stats as st\n",
    "from sklearn.metrics import mean_absolute_error\n",
    "from sklearn.metrics import make_scorer\n",
    "from sklearn.model_selection import cross_val_score\n",
    "from sklearn.model_selection import cross_validate"
   ]
  },
  {
   "cell_type": "markdown",
   "metadata": {},
   "source": [
    "Импортируем датасеты, посмототрим на информацию о них. "
   ]
  },
  {
   "cell_type": "code",
   "execution_count": 2,
   "metadata": {},
   "outputs": [],
   "source": [
    "data_train = pd.read_csv('/datasets/gold_recovery_train.csv', parse_dates=True, index_col='date')\n",
    "data_test = pd.read_csv('/datasets/gold_recovery_test.csv', parse_dates=True, index_col='date')\n",
    "data_full = pd.read_csv('/datasets/gold_recovery_full.csv', parse_dates=True, index_col='date')"
   ]
  },
  {
   "cell_type": "code",
   "execution_count": 3,
   "metadata": {
    "scrolled": true
   },
   "outputs": [
    {
     "name": "stdout",
     "output_type": "stream",
     "text": [
      "<class 'pandas.core.frame.DataFrame'>\n",
      "DatetimeIndex: 16860 entries, 2016-01-15 00:00:00 to 2018-08-18 10:59:59\n",
      "Data columns (total 86 columns):\n",
      "final.output.concentrate_ag                           16788 non-null float64\n",
      "final.output.concentrate_pb                           16788 non-null float64\n",
      "final.output.concentrate_sol                          16490 non-null float64\n",
      "final.output.concentrate_au                           16789 non-null float64\n",
      "final.output.recovery                                 15339 non-null float64\n",
      "final.output.tail_ag                                  16794 non-null float64\n",
      "final.output.tail_pb                                  16677 non-null float64\n",
      "final.output.tail_sol                                 16715 non-null float64\n",
      "final.output.tail_au                                  16794 non-null float64\n",
      "primary_cleaner.input.sulfate                         15553 non-null float64\n",
      "primary_cleaner.input.depressant                      15598 non-null float64\n",
      "primary_cleaner.input.feed_size                       16860 non-null float64\n",
      "primary_cleaner.input.xanthate                        15875 non-null float64\n",
      "primary_cleaner.output.concentrate_ag                 16778 non-null float64\n",
      "primary_cleaner.output.concentrate_pb                 16502 non-null float64\n",
      "primary_cleaner.output.concentrate_sol                16224 non-null float64\n",
      "primary_cleaner.output.concentrate_au                 16778 non-null float64\n",
      "primary_cleaner.output.tail_ag                        16777 non-null float64\n",
      "primary_cleaner.output.tail_pb                        16761 non-null float64\n",
      "primary_cleaner.output.tail_sol                       16579 non-null float64\n",
      "primary_cleaner.output.tail_au                        16777 non-null float64\n",
      "primary_cleaner.state.floatbank8_a_air                16820 non-null float64\n",
      "primary_cleaner.state.floatbank8_a_level              16827 non-null float64\n",
      "primary_cleaner.state.floatbank8_b_air                16820 non-null float64\n",
      "primary_cleaner.state.floatbank8_b_level              16833 non-null float64\n",
      "primary_cleaner.state.floatbank8_c_air                16822 non-null float64\n",
      "primary_cleaner.state.floatbank8_c_level              16833 non-null float64\n",
      "primary_cleaner.state.floatbank8_d_air                16821 non-null float64\n",
      "primary_cleaner.state.floatbank8_d_level              16833 non-null float64\n",
      "rougher.calculation.sulfate_to_au_concentrate         16833 non-null float64\n",
      "rougher.calculation.floatbank10_sulfate_to_au_feed    16833 non-null float64\n",
      "rougher.calculation.floatbank11_sulfate_to_au_feed    16833 non-null float64\n",
      "rougher.calculation.au_pb_ratio                       15618 non-null float64\n",
      "rougher.input.feed_ag                                 16778 non-null float64\n",
      "rougher.input.feed_pb                                 16632 non-null float64\n",
      "rougher.input.feed_rate                               16347 non-null float64\n",
      "rougher.input.feed_size                               16443 non-null float64\n",
      "rougher.input.feed_sol                                16568 non-null float64\n",
      "rougher.input.feed_au                                 16777 non-null float64\n",
      "rougher.input.floatbank10_sulfate                     15816 non-null float64\n",
      "rougher.input.floatbank10_xanthate                    16514 non-null float64\n",
      "rougher.input.floatbank11_sulfate                     16237 non-null float64\n",
      "rougher.input.floatbank11_xanthate                    14956 non-null float64\n",
      "rougher.output.concentrate_ag                         16778 non-null float64\n",
      "rougher.output.concentrate_pb                         16778 non-null float64\n",
      "rougher.output.concentrate_sol                        16698 non-null float64\n",
      "rougher.output.concentrate_au                         16778 non-null float64\n",
      "rougher.output.recovery                               14287 non-null float64\n",
      "rougher.output.tail_ag                                14610 non-null float64\n",
      "rougher.output.tail_pb                                16778 non-null float64\n",
      "rougher.output.tail_sol                               14611 non-null float64\n",
      "rougher.output.tail_au                                14611 non-null float64\n",
      "rougher.state.floatbank10_a_air                       16807 non-null float64\n",
      "rougher.state.floatbank10_a_level                     16807 non-null float64\n",
      "rougher.state.floatbank10_b_air                       16807 non-null float64\n",
      "rougher.state.floatbank10_b_level                     16807 non-null float64\n",
      "rougher.state.floatbank10_c_air                       16807 non-null float64\n",
      "rougher.state.floatbank10_c_level                     16814 non-null float64\n",
      "rougher.state.floatbank10_d_air                       16802 non-null float64\n",
      "rougher.state.floatbank10_d_level                     16809 non-null float64\n",
      "rougher.state.floatbank10_e_air                       16257 non-null float64\n",
      "rougher.state.floatbank10_e_level                     16809 non-null float64\n",
      "rougher.state.floatbank10_f_air                       16802 non-null float64\n",
      "rougher.state.floatbank10_f_level                     16802 non-null float64\n",
      "secondary_cleaner.output.tail_ag                      16776 non-null float64\n",
      "secondary_cleaner.output.tail_pb                      16764 non-null float64\n",
      "secondary_cleaner.output.tail_sol                     14874 non-null float64\n",
      "secondary_cleaner.output.tail_au                      16778 non-null float64\n",
      "secondary_cleaner.state.floatbank2_a_air              16497 non-null float64\n",
      "secondary_cleaner.state.floatbank2_a_level            16751 non-null float64\n",
      "secondary_cleaner.state.floatbank2_b_air              16705 non-null float64\n",
      "secondary_cleaner.state.floatbank2_b_level            16748 non-null float64\n",
      "secondary_cleaner.state.floatbank3_a_air              16763 non-null float64\n",
      "secondary_cleaner.state.floatbank3_a_level            16747 non-null float64\n",
      "secondary_cleaner.state.floatbank3_b_air              16752 non-null float64\n",
      "secondary_cleaner.state.floatbank3_b_level            16750 non-null float64\n",
      "secondary_cleaner.state.floatbank4_a_air              16731 non-null float64\n",
      "secondary_cleaner.state.floatbank4_a_level            16747 non-null float64\n",
      "secondary_cleaner.state.floatbank4_b_air              16768 non-null float64\n",
      "secondary_cleaner.state.floatbank4_b_level            16767 non-null float64\n",
      "secondary_cleaner.state.floatbank5_a_air              16775 non-null float64\n",
      "secondary_cleaner.state.floatbank5_a_level            16775 non-null float64\n",
      "secondary_cleaner.state.floatbank5_b_air              16775 non-null float64\n",
      "secondary_cleaner.state.floatbank5_b_level            16776 non-null float64\n",
      "secondary_cleaner.state.floatbank6_a_air              16757 non-null float64\n",
      "secondary_cleaner.state.floatbank6_a_level            16775 non-null float64\n",
      "dtypes: float64(86)\n",
      "memory usage: 11.2 MB\n",
      "None\n"
     ]
    }
   ],
   "source": [
    "print(data_train.info())"
   ]
  },
  {
   "cell_type": "code",
   "execution_count": 4,
   "metadata": {
    "scrolled": true
   },
   "outputs": [
    {
     "name": "stdout",
     "output_type": "stream",
     "text": [
      "<class 'pandas.core.frame.DataFrame'>\n",
      "DatetimeIndex: 5856 entries, 2016-09-01 00:59:59 to 2017-12-31 23:59:59\n",
      "Data columns (total 52 columns):\n",
      "primary_cleaner.input.sulfate                 5554 non-null float64\n",
      "primary_cleaner.input.depressant              5572 non-null float64\n",
      "primary_cleaner.input.feed_size               5856 non-null float64\n",
      "primary_cleaner.input.xanthate                5690 non-null float64\n",
      "primary_cleaner.state.floatbank8_a_air        5840 non-null float64\n",
      "primary_cleaner.state.floatbank8_a_level      5840 non-null float64\n",
      "primary_cleaner.state.floatbank8_b_air        5840 non-null float64\n",
      "primary_cleaner.state.floatbank8_b_level      5840 non-null float64\n",
      "primary_cleaner.state.floatbank8_c_air        5840 non-null float64\n",
      "primary_cleaner.state.floatbank8_c_level      5840 non-null float64\n",
      "primary_cleaner.state.floatbank8_d_air        5840 non-null float64\n",
      "primary_cleaner.state.floatbank8_d_level      5840 non-null float64\n",
      "rougher.input.feed_ag                         5840 non-null float64\n",
      "rougher.input.feed_pb                         5840 non-null float64\n",
      "rougher.input.feed_rate                       5816 non-null float64\n",
      "rougher.input.feed_size                       5834 non-null float64\n",
      "rougher.input.feed_sol                        5789 non-null float64\n",
      "rougher.input.feed_au                         5840 non-null float64\n",
      "rougher.input.floatbank10_sulfate             5599 non-null float64\n",
      "rougher.input.floatbank10_xanthate            5733 non-null float64\n",
      "rougher.input.floatbank11_sulfate             5801 non-null float64\n",
      "rougher.input.floatbank11_xanthate            5503 non-null float64\n",
      "rougher.state.floatbank10_a_air               5839 non-null float64\n",
      "rougher.state.floatbank10_a_level             5840 non-null float64\n",
      "rougher.state.floatbank10_b_air               5839 non-null float64\n",
      "rougher.state.floatbank10_b_level             5840 non-null float64\n",
      "rougher.state.floatbank10_c_air               5839 non-null float64\n",
      "rougher.state.floatbank10_c_level             5840 non-null float64\n",
      "rougher.state.floatbank10_d_air               5839 non-null float64\n",
      "rougher.state.floatbank10_d_level             5840 non-null float64\n",
      "rougher.state.floatbank10_e_air               5839 non-null float64\n",
      "rougher.state.floatbank10_e_level             5840 non-null float64\n",
      "rougher.state.floatbank10_f_air               5839 non-null float64\n",
      "rougher.state.floatbank10_f_level             5840 non-null float64\n",
      "secondary_cleaner.state.floatbank2_a_air      5836 non-null float64\n",
      "secondary_cleaner.state.floatbank2_a_level    5840 non-null float64\n",
      "secondary_cleaner.state.floatbank2_b_air      5833 non-null float64\n",
      "secondary_cleaner.state.floatbank2_b_level    5840 non-null float64\n",
      "secondary_cleaner.state.floatbank3_a_air      5822 non-null float64\n",
      "secondary_cleaner.state.floatbank3_a_level    5840 non-null float64\n",
      "secondary_cleaner.state.floatbank3_b_air      5840 non-null float64\n",
      "secondary_cleaner.state.floatbank3_b_level    5840 non-null float64\n",
      "secondary_cleaner.state.floatbank4_a_air      5840 non-null float64\n",
      "secondary_cleaner.state.floatbank4_a_level    5840 non-null float64\n",
      "secondary_cleaner.state.floatbank4_b_air      5840 non-null float64\n",
      "secondary_cleaner.state.floatbank4_b_level    5840 non-null float64\n",
      "secondary_cleaner.state.floatbank5_a_air      5840 non-null float64\n",
      "secondary_cleaner.state.floatbank5_a_level    5840 non-null float64\n",
      "secondary_cleaner.state.floatbank5_b_air      5840 non-null float64\n",
      "secondary_cleaner.state.floatbank5_b_level    5840 non-null float64\n",
      "secondary_cleaner.state.floatbank6_a_air      5840 non-null float64\n",
      "secondary_cleaner.state.floatbank6_a_level    5840 non-null float64\n",
      "dtypes: float64(52)\n",
      "memory usage: 2.4 MB\n",
      "None\n"
     ]
    }
   ],
   "source": [
    "print(data_test.info())"
   ]
  },
  {
   "cell_type": "code",
   "execution_count": 5,
   "metadata": {
    "scrolled": true
   },
   "outputs": [
    {
     "name": "stdout",
     "output_type": "stream",
     "text": [
      "<class 'pandas.core.frame.DataFrame'>\n",
      "DatetimeIndex: 22716 entries, 2016-01-15 00:00:00 to 2018-08-18 10:59:59\n",
      "Data columns (total 86 columns):\n",
      "final.output.concentrate_ag                           22627 non-null float64\n",
      "final.output.concentrate_pb                           22629 non-null float64\n",
      "final.output.concentrate_sol                          22331 non-null float64\n",
      "final.output.concentrate_au                           22630 non-null float64\n",
      "final.output.recovery                                 20753 non-null float64\n",
      "final.output.tail_ag                                  22633 non-null float64\n",
      "final.output.tail_pb                                  22516 non-null float64\n",
      "final.output.tail_sol                                 22445 non-null float64\n",
      "final.output.tail_au                                  22635 non-null float64\n",
      "primary_cleaner.input.sulfate                         21107 non-null float64\n",
      "primary_cleaner.input.depressant                      21170 non-null float64\n",
      "primary_cleaner.input.feed_size                       22716 non-null float64\n",
      "primary_cleaner.input.xanthate                        21565 non-null float64\n",
      "primary_cleaner.output.concentrate_ag                 22618 non-null float64\n",
      "primary_cleaner.output.concentrate_pb                 22268 non-null float64\n",
      "primary_cleaner.output.concentrate_sol                21918 non-null float64\n",
      "primary_cleaner.output.concentrate_au                 22618 non-null float64\n",
      "primary_cleaner.output.tail_ag                        22614 non-null float64\n",
      "primary_cleaner.output.tail_pb                        22594 non-null float64\n",
      "primary_cleaner.output.tail_sol                       22365 non-null float64\n",
      "primary_cleaner.output.tail_au                        22617 non-null float64\n",
      "primary_cleaner.state.floatbank8_a_air                22660 non-null float64\n",
      "primary_cleaner.state.floatbank8_a_level              22667 non-null float64\n",
      "primary_cleaner.state.floatbank8_b_air                22660 non-null float64\n",
      "primary_cleaner.state.floatbank8_b_level              22673 non-null float64\n",
      "primary_cleaner.state.floatbank8_c_air                22662 non-null float64\n",
      "primary_cleaner.state.floatbank8_c_level              22673 non-null float64\n",
      "primary_cleaner.state.floatbank8_d_air                22661 non-null float64\n",
      "primary_cleaner.state.floatbank8_d_level              22673 non-null float64\n",
      "rougher.calculation.sulfate_to_au_concentrate         22672 non-null float64\n",
      "rougher.calculation.floatbank10_sulfate_to_au_feed    22672 non-null float64\n",
      "rougher.calculation.floatbank11_sulfate_to_au_feed    22672 non-null float64\n",
      "rougher.calculation.au_pb_ratio                       21089 non-null float64\n",
      "rougher.input.feed_ag                                 22618 non-null float64\n",
      "rougher.input.feed_pb                                 22472 non-null float64\n",
      "rougher.input.feed_rate                               22163 non-null float64\n",
      "rougher.input.feed_size                               22277 non-null float64\n",
      "rougher.input.feed_sol                                22357 non-null float64\n",
      "rougher.input.feed_au                                 22617 non-null float64\n",
      "rougher.input.floatbank10_sulfate                     21415 non-null float64\n",
      "rougher.input.floatbank10_xanthate                    22247 non-null float64\n",
      "rougher.input.floatbank11_sulfate                     22038 non-null float64\n",
      "rougher.input.floatbank11_xanthate                    20459 non-null float64\n",
      "rougher.output.concentrate_ag                         22618 non-null float64\n",
      "rougher.output.concentrate_pb                         22618 non-null float64\n",
      "rougher.output.concentrate_sol                        22526 non-null float64\n",
      "rougher.output.concentrate_au                         22618 non-null float64\n",
      "rougher.output.recovery                               19597 non-null float64\n",
      "rougher.output.tail_ag                                19979 non-null float64\n",
      "rougher.output.tail_pb                                22618 non-null float64\n",
      "rougher.output.tail_sol                               19980 non-null float64\n",
      "rougher.output.tail_au                                19980 non-null float64\n",
      "rougher.state.floatbank10_a_air                       22646 non-null float64\n",
      "rougher.state.floatbank10_a_level                     22647 non-null float64\n",
      "rougher.state.floatbank10_b_air                       22646 non-null float64\n",
      "rougher.state.floatbank10_b_level                     22647 non-null float64\n",
      "rougher.state.floatbank10_c_air                       22646 non-null float64\n",
      "rougher.state.floatbank10_c_level                     22654 non-null float64\n",
      "rougher.state.floatbank10_d_air                       22641 non-null float64\n",
      "rougher.state.floatbank10_d_level                     22649 non-null float64\n",
      "rougher.state.floatbank10_e_air                       22096 non-null float64\n",
      "rougher.state.floatbank10_e_level                     22649 non-null float64\n",
      "rougher.state.floatbank10_f_air                       22641 non-null float64\n",
      "rougher.state.floatbank10_f_level                     22642 non-null float64\n",
      "secondary_cleaner.output.tail_ag                      22616 non-null float64\n",
      "secondary_cleaner.output.tail_pb                      22600 non-null float64\n",
      "secondary_cleaner.output.tail_sol                     20501 non-null float64\n",
      "secondary_cleaner.output.tail_au                      22618 non-null float64\n",
      "secondary_cleaner.state.floatbank2_a_air              22333 non-null float64\n",
      "secondary_cleaner.state.floatbank2_a_level            22591 non-null float64\n",
      "secondary_cleaner.state.floatbank2_b_air              22538 non-null float64\n",
      "secondary_cleaner.state.floatbank2_b_level            22588 non-null float64\n",
      "secondary_cleaner.state.floatbank3_a_air              22585 non-null float64\n",
      "secondary_cleaner.state.floatbank3_a_level            22587 non-null float64\n",
      "secondary_cleaner.state.floatbank3_b_air              22592 non-null float64\n",
      "secondary_cleaner.state.floatbank3_b_level            22590 non-null float64\n",
      "secondary_cleaner.state.floatbank4_a_air              22571 non-null float64\n",
      "secondary_cleaner.state.floatbank4_a_level            22587 non-null float64\n",
      "secondary_cleaner.state.floatbank4_b_air              22608 non-null float64\n",
      "secondary_cleaner.state.floatbank4_b_level            22607 non-null float64\n",
      "secondary_cleaner.state.floatbank5_a_air              22615 non-null float64\n",
      "secondary_cleaner.state.floatbank5_a_level            22615 non-null float64\n",
      "secondary_cleaner.state.floatbank5_b_air              22615 non-null float64\n",
      "secondary_cleaner.state.floatbank5_b_level            22616 non-null float64\n",
      "secondary_cleaner.state.floatbank6_a_air              22597 non-null float64\n",
      "secondary_cleaner.state.floatbank6_a_level            22615 non-null float64\n",
      "dtypes: float64(86)\n",
      "memory usage: 15.1 MB\n",
      "None\n"
     ]
    }
   ],
   "source": [
    "print(data_full.info())"
   ]
  },
  {
   "cell_type": "markdown",
   "metadata": {},
   "source": [
    "data_train - обучающая выборка содержит в себе все признаки объектов. При этом в ней содержатся даже те данные, которые получаются уже в процессе обработки. <br>\n",
    "data_test - тестовая выборка, не содержит в себе некоторые признаки, которые замеряются и/или рассчитываются позже, а также не содержит целевой признак. <br>\n",
    "data_full - полный датасет, который включает в себя обучающую и тестовую выборку со всеми признаками. "
   ]
  },
  {
   "cell_type": "markdown",
   "metadata": {},
   "source": [
    "### Проверка верности расчета rougher.output.recovery"
   ]
  },
  {
   "cell_type": "markdown",
   "metadata": {},
   "source": [
    "Прежде, чем приступить к предобработке данных, проверим расчет эффективности обогащения (rougher.output.recovery) на обучающей выборке. Формула для расчета rougher.output.recovery выглядит так: (C * (F - T)) / (F * (C - T)) * 100, где C - rougher.output.concentrate_au, F - rougher.input.feed_au, T - rougher.output.tail_au. Создадим столбец с расчетом по данной формуле, после чего найдем МАЕ между нашими расчетами и значением признака. "
   ]
  },
  {
   "cell_type": "markdown",
   "metadata": {},
   "source": [
    "В необходимых для расчета столбцах есть пропущенные значения. Чтобы формула работала корректно, создадим отдельный датафрейм, в котором удалим строки с пропущенными значениям. Работать будем с ним."
   ]
  },
  {
   "cell_type": "code",
   "execution_count": 6,
   "metadata": {},
   "outputs": [
    {
     "data": {
      "text/html": [
       "<div>\n",
       "<style scoped>\n",
       "    .dataframe tbody tr th:only-of-type {\n",
       "        vertical-align: middle;\n",
       "    }\n",
       "\n",
       "    .dataframe tbody tr th {\n",
       "        vertical-align: top;\n",
       "    }\n",
       "\n",
       "    .dataframe thead th {\n",
       "        text-align: right;\n",
       "    }\n",
       "</style>\n",
       "<table border=\"1\" class=\"dataframe\">\n",
       "  <thead>\n",
       "    <tr style=\"text-align: right;\">\n",
       "      <th></th>\n",
       "      <th>rougher.output.concentrate_au</th>\n",
       "      <th>rougher.input.feed_au</th>\n",
       "      <th>rougher.output.tail_au</th>\n",
       "      <th>rougher.output.recovery</th>\n",
       "    </tr>\n",
       "    <tr>\n",
       "      <th>date</th>\n",
       "      <th></th>\n",
       "      <th></th>\n",
       "      <th></th>\n",
       "      <th></th>\n",
       "    </tr>\n",
       "  </thead>\n",
       "  <tbody>\n",
       "    <tr>\n",
       "      <td>2016-01-15 00:00:00</td>\n",
       "      <td>19.793808</td>\n",
       "      <td>6.486150</td>\n",
       "      <td>1.170244</td>\n",
       "      <td>87.107763</td>\n",
       "    </tr>\n",
       "    <tr>\n",
       "      <td>2016-01-15 01:00:00</td>\n",
       "      <td>20.050975</td>\n",
       "      <td>6.478583</td>\n",
       "      <td>1.184827</td>\n",
       "      <td>86.843261</td>\n",
       "    </tr>\n",
       "    <tr>\n",
       "      <td>2016-01-15 02:00:00</td>\n",
       "      <td>19.737170</td>\n",
       "      <td>6.362222</td>\n",
       "      <td>1.162562</td>\n",
       "      <td>86.842308</td>\n",
       "    </tr>\n",
       "    <tr>\n",
       "      <td>2016-01-15 03:00:00</td>\n",
       "      <td>19.320810</td>\n",
       "      <td>6.118189</td>\n",
       "      <td>1.079755</td>\n",
       "      <td>87.226430</td>\n",
       "    </tr>\n",
       "    <tr>\n",
       "      <td>2016-01-15 04:00:00</td>\n",
       "      <td>19.216101</td>\n",
       "      <td>5.663707</td>\n",
       "      <td>1.012642</td>\n",
       "      <td>86.688794</td>\n",
       "    </tr>\n",
       "  </tbody>\n",
       "</table>\n",
       "</div>"
      ],
      "text/plain": [
       "                     rougher.output.concentrate_au  rougher.input.feed_au  \\\n",
       "date                                                                        \n",
       "2016-01-15 00:00:00                      19.793808               6.486150   \n",
       "2016-01-15 01:00:00                      20.050975               6.478583   \n",
       "2016-01-15 02:00:00                      19.737170               6.362222   \n",
       "2016-01-15 03:00:00                      19.320810               6.118189   \n",
       "2016-01-15 04:00:00                      19.216101               5.663707   \n",
       "\n",
       "                     rougher.output.tail_au  rougher.output.recovery  \n",
       "date                                                                  \n",
       "2016-01-15 00:00:00                1.170244                87.107763  \n",
       "2016-01-15 01:00:00                1.184827                86.843261  \n",
       "2016-01-15 02:00:00                1.162562                86.842308  \n",
       "2016-01-15 03:00:00                1.079755                87.226430  \n",
       "2016-01-15 04:00:00                1.012642                86.688794  "
      ]
     },
     "execution_count": 6,
     "metadata": {},
     "output_type": "execute_result"
    }
   ],
   "source": [
    "data_testing = data_train[['rougher.output.concentrate_au', 'rougher.input.feed_au', 'rougher.output.tail_au', 'rougher.output.recovery']]\n",
    "data_testing = data_testing.dropna()\n",
    "data_testing.head()"
   ]
  },
  {
   "cell_type": "code",
   "execution_count": 7,
   "metadata": {},
   "outputs": [
    {
     "data": {
      "text/plain": [
       "date\n",
       "2016-01-15 00:00:00    87.107763\n",
       "2016-01-15 01:00:00    86.843261\n",
       "2016-01-15 02:00:00    86.842308\n",
       "2016-01-15 03:00:00    87.226430\n",
       "2016-01-15 04:00:00    86.688794\n",
       "Name: recovery_test, dtype: float64"
      ]
     },
     "execution_count": 7,
     "metadata": {},
     "output_type": "execute_result"
    }
   ],
   "source": [
    "C = data_testing['rougher.output.concentrate_au'] \n",
    "F = data_testing['rougher.input.feed_au']\n",
    "T = data_testing['rougher.output.tail_au']\n",
    "\n",
    "data_testing['recovery_test'] = (C * (F - T)) / (F * (C - T)) * 100\n",
    "data_testing['recovery_test'].head(5)"
   ]
  },
  {
   "cell_type": "code",
   "execution_count": 8,
   "metadata": {},
   "outputs": [
    {
     "data": {
      "text/plain": [
       "9.444891926100695e-15"
      ]
     },
     "execution_count": 8,
     "metadata": {},
     "output_type": "execute_result"
    }
   ],
   "source": [
    "mae = mean_absolute_error(data_testing['rougher.output.recovery'], data_testing['recovery_test'])\n",
    "mae"
   ]
  },
  {
   "cell_type": "markdown",
   "metadata": {},
   "source": [
    "Мы видим, что значение MAE очень низкое, а это значит, что значения признака в исходном датафрейме практически не отличаются от расчитанных нами значений. То есть значения можно считать верными. \n",
    "<br> Также мы узнали, что в исходном датафрейме в небходимых для расчета столбwах есть пропущенные значения. Будем учитывать это в дальнейшем.  "
   ]
  },
  {
   "cell_type": "markdown",
   "metadata": {},
   "source": [
    "### Анализ признаков в выборках"
   ]
  },
  {
   "cell_type": "markdown",
   "metadata": {},
   "source": [
    "Выше мы видели, что у нас есть 86 столбцов в обучающей выборке и 52 столбца в тестовой выборке. Это связано с тем, что значение некоторых признаков становится известно только в процессе обработки руды. Соответственно, при обучении моделей мы эти признаки учитывать не можем, потому что в работе они нам известны не будут. То есть нам необходимо удалить из обучающей выборки столбцы, которые отсутствуют в тестовой выборке. При этом в тестовой выборке у нас отсутствуют целевые признаки. Необходимо добавить их в тестовую выборку из полной (rougher.output.recovery и final.output.recovery)."
   ]
  },
  {
   "cell_type": "markdown",
   "metadata": {},
   "source": [
    "Добавим необходимые столбцы в тестовую выборку. "
   ]
  },
  {
   "cell_type": "code",
   "execution_count": 9,
   "metadata": {
    "scrolled": true
   },
   "outputs": [
    {
     "name": "stdout",
     "output_type": "stream",
     "text": [
      "<class 'pandas.core.frame.DataFrame'>\n",
      "DatetimeIndex: 5856 entries, 2016-09-01 00:59:59 to 2017-12-31 23:59:59\n",
      "Data columns (total 54 columns):\n",
      "primary_cleaner.input.sulfate                 5554 non-null float64\n",
      "primary_cleaner.input.depressant              5572 non-null float64\n",
      "primary_cleaner.input.feed_size               5856 non-null float64\n",
      "primary_cleaner.input.xanthate                5690 non-null float64\n",
      "primary_cleaner.state.floatbank8_a_air        5840 non-null float64\n",
      "primary_cleaner.state.floatbank8_a_level      5840 non-null float64\n",
      "primary_cleaner.state.floatbank8_b_air        5840 non-null float64\n",
      "primary_cleaner.state.floatbank8_b_level      5840 non-null float64\n",
      "primary_cleaner.state.floatbank8_c_air        5840 non-null float64\n",
      "primary_cleaner.state.floatbank8_c_level      5840 non-null float64\n",
      "primary_cleaner.state.floatbank8_d_air        5840 non-null float64\n",
      "primary_cleaner.state.floatbank8_d_level      5840 non-null float64\n",
      "rougher.input.feed_ag                         5840 non-null float64\n",
      "rougher.input.feed_pb                         5840 non-null float64\n",
      "rougher.input.feed_rate                       5816 non-null float64\n",
      "rougher.input.feed_size                       5834 non-null float64\n",
      "rougher.input.feed_sol                        5789 non-null float64\n",
      "rougher.input.feed_au                         5840 non-null float64\n",
      "rougher.input.floatbank10_sulfate             5599 non-null float64\n",
      "rougher.input.floatbank10_xanthate            5733 non-null float64\n",
      "rougher.input.floatbank11_sulfate             5801 non-null float64\n",
      "rougher.input.floatbank11_xanthate            5503 non-null float64\n",
      "rougher.state.floatbank10_a_air               5839 non-null float64\n",
      "rougher.state.floatbank10_a_level             5840 non-null float64\n",
      "rougher.state.floatbank10_b_air               5839 non-null float64\n",
      "rougher.state.floatbank10_b_level             5840 non-null float64\n",
      "rougher.state.floatbank10_c_air               5839 non-null float64\n",
      "rougher.state.floatbank10_c_level             5840 non-null float64\n",
      "rougher.state.floatbank10_d_air               5839 non-null float64\n",
      "rougher.state.floatbank10_d_level             5840 non-null float64\n",
      "rougher.state.floatbank10_e_air               5839 non-null float64\n",
      "rougher.state.floatbank10_e_level             5840 non-null float64\n",
      "rougher.state.floatbank10_f_air               5839 non-null float64\n",
      "rougher.state.floatbank10_f_level             5840 non-null float64\n",
      "secondary_cleaner.state.floatbank2_a_air      5836 non-null float64\n",
      "secondary_cleaner.state.floatbank2_a_level    5840 non-null float64\n",
      "secondary_cleaner.state.floatbank2_b_air      5833 non-null float64\n",
      "secondary_cleaner.state.floatbank2_b_level    5840 non-null float64\n",
      "secondary_cleaner.state.floatbank3_a_air      5822 non-null float64\n",
      "secondary_cleaner.state.floatbank3_a_level    5840 non-null float64\n",
      "secondary_cleaner.state.floatbank3_b_air      5840 non-null float64\n",
      "secondary_cleaner.state.floatbank3_b_level    5840 non-null float64\n",
      "secondary_cleaner.state.floatbank4_a_air      5840 non-null float64\n",
      "secondary_cleaner.state.floatbank4_a_level    5840 non-null float64\n",
      "secondary_cleaner.state.floatbank4_b_air      5840 non-null float64\n",
      "secondary_cleaner.state.floatbank4_b_level    5840 non-null float64\n",
      "secondary_cleaner.state.floatbank5_a_air      5840 non-null float64\n",
      "secondary_cleaner.state.floatbank5_a_level    5840 non-null float64\n",
      "secondary_cleaner.state.floatbank5_b_air      5840 non-null float64\n",
      "secondary_cleaner.state.floatbank5_b_level    5840 non-null float64\n",
      "secondary_cleaner.state.floatbank6_a_air      5840 non-null float64\n",
      "secondary_cleaner.state.floatbank6_a_level    5840 non-null float64\n",
      "rougher.output.recovery                       5310 non-null float64\n",
      "final.output.recovery                         5414 non-null float64\n",
      "dtypes: float64(54)\n",
      "memory usage: 2.6 MB\n"
     ]
    }
   ],
   "source": [
    "data_add_to_test = data_full[['rougher.output.recovery', 'final.output.recovery']]\n",
    "data_test = data_test.join(data_add_to_test)\n",
    "data_test.info()"
   ]
  },
  {
   "cell_type": "markdown",
   "metadata": {},
   "source": [
    "Оставим в обучающей выборке только те столбцы, которые есть в тестовой. "
   ]
  },
  {
   "cell_type": "code",
   "execution_count": 10,
   "metadata": {
    "scrolled": true
   },
   "outputs": [
    {
     "name": "stdout",
     "output_type": "stream",
     "text": [
      "<class 'pandas.core.frame.DataFrame'>\n",
      "DatetimeIndex: 16860 entries, 2016-01-15 00:00:00 to 2018-08-18 10:59:59\n",
      "Data columns (total 54 columns):\n",
      "primary_cleaner.input.sulfate                 15553 non-null float64\n",
      "primary_cleaner.input.depressant              15598 non-null float64\n",
      "primary_cleaner.input.feed_size               16860 non-null float64\n",
      "primary_cleaner.input.xanthate                15875 non-null float64\n",
      "primary_cleaner.state.floatbank8_a_air        16820 non-null float64\n",
      "primary_cleaner.state.floatbank8_a_level      16827 non-null float64\n",
      "primary_cleaner.state.floatbank8_b_air        16820 non-null float64\n",
      "primary_cleaner.state.floatbank8_b_level      16833 non-null float64\n",
      "primary_cleaner.state.floatbank8_c_air        16822 non-null float64\n",
      "primary_cleaner.state.floatbank8_c_level      16833 non-null float64\n",
      "primary_cleaner.state.floatbank8_d_air        16821 non-null float64\n",
      "primary_cleaner.state.floatbank8_d_level      16833 non-null float64\n",
      "rougher.input.feed_ag                         16778 non-null float64\n",
      "rougher.input.feed_pb                         16632 non-null float64\n",
      "rougher.input.feed_rate                       16347 non-null float64\n",
      "rougher.input.feed_size                       16443 non-null float64\n",
      "rougher.input.feed_sol                        16568 non-null float64\n",
      "rougher.input.feed_au                         16777 non-null float64\n",
      "rougher.input.floatbank10_sulfate             15816 non-null float64\n",
      "rougher.input.floatbank10_xanthate            16514 non-null float64\n",
      "rougher.input.floatbank11_sulfate             16237 non-null float64\n",
      "rougher.input.floatbank11_xanthate            14956 non-null float64\n",
      "rougher.state.floatbank10_a_air               16807 non-null float64\n",
      "rougher.state.floatbank10_a_level             16807 non-null float64\n",
      "rougher.state.floatbank10_b_air               16807 non-null float64\n",
      "rougher.state.floatbank10_b_level             16807 non-null float64\n",
      "rougher.state.floatbank10_c_air               16807 non-null float64\n",
      "rougher.state.floatbank10_c_level             16814 non-null float64\n",
      "rougher.state.floatbank10_d_air               16802 non-null float64\n",
      "rougher.state.floatbank10_d_level             16809 non-null float64\n",
      "rougher.state.floatbank10_e_air               16257 non-null float64\n",
      "rougher.state.floatbank10_e_level             16809 non-null float64\n",
      "rougher.state.floatbank10_f_air               16802 non-null float64\n",
      "rougher.state.floatbank10_f_level             16802 non-null float64\n",
      "secondary_cleaner.state.floatbank2_a_air      16497 non-null float64\n",
      "secondary_cleaner.state.floatbank2_a_level    16751 non-null float64\n",
      "secondary_cleaner.state.floatbank2_b_air      16705 non-null float64\n",
      "secondary_cleaner.state.floatbank2_b_level    16748 non-null float64\n",
      "secondary_cleaner.state.floatbank3_a_air      16763 non-null float64\n",
      "secondary_cleaner.state.floatbank3_a_level    16747 non-null float64\n",
      "secondary_cleaner.state.floatbank3_b_air      16752 non-null float64\n",
      "secondary_cleaner.state.floatbank3_b_level    16750 non-null float64\n",
      "secondary_cleaner.state.floatbank4_a_air      16731 non-null float64\n",
      "secondary_cleaner.state.floatbank4_a_level    16747 non-null float64\n",
      "secondary_cleaner.state.floatbank4_b_air      16768 non-null float64\n",
      "secondary_cleaner.state.floatbank4_b_level    16767 non-null float64\n",
      "secondary_cleaner.state.floatbank5_a_air      16775 non-null float64\n",
      "secondary_cleaner.state.floatbank5_a_level    16775 non-null float64\n",
      "secondary_cleaner.state.floatbank5_b_air      16775 non-null float64\n",
      "secondary_cleaner.state.floatbank5_b_level    16776 non-null float64\n",
      "secondary_cleaner.state.floatbank6_a_air      16757 non-null float64\n",
      "secondary_cleaner.state.floatbank6_a_level    16775 non-null float64\n",
      "rougher.output.recovery                       14287 non-null float64\n",
      "final.output.recovery                         15339 non-null float64\n",
      "dtypes: float64(54)\n",
      "memory usage: 7.1 MB\n"
     ]
    }
   ],
   "source": [
    "data_train = data_train[data_test.columns]\n",
    "data_train.info()"
   ]
  },
  {
   "cell_type": "markdown",
   "metadata": {},
   "source": [
    "Теперь признаки в наших выборках идентичны, значит, модель будет обучаться только на тех данных, которые будут доступны нам в самом начале обработки. "
   ]
  },
  {
   "cell_type": "markdown",
   "metadata": {},
   "source": [
    "### Обработка пропущенных значений"
   ]
  },
  {
   "cell_type": "markdown",
   "metadata": {},
   "source": [
    "И в обучающей, и в тестовой выборках у нас есть пропущенные значения. Работать с пропущенными значениями в целевых признаках нельзя - модель обучится некорректно. Сначала удалим строки с пропущенными значения в целевых признаках, а потом будем обрабатывать остальные значения. "
   ]
  },
  {
   "cell_type": "code",
   "execution_count": 11,
   "metadata": {},
   "outputs": [
    {
     "name": "stdout",
     "output_type": "stream",
     "text": [
      "<class 'pandas.core.frame.DataFrame'>\n",
      "DatetimeIndex: 14149 entries, 2016-01-15 00:00:00 to 2018-08-18 10:59:59\n",
      "Data columns (total 54 columns):\n",
      "primary_cleaner.input.sulfate                 14129 non-null float64\n",
      "primary_cleaner.input.depressant              14117 non-null float64\n",
      "primary_cleaner.input.feed_size               14149 non-null float64\n",
      "primary_cleaner.input.xanthate                14049 non-null float64\n",
      "primary_cleaner.state.floatbank8_a_air        14145 non-null float64\n",
      "primary_cleaner.state.floatbank8_a_level      14148 non-null float64\n",
      "primary_cleaner.state.floatbank8_b_air        14145 non-null float64\n",
      "primary_cleaner.state.floatbank8_b_level      14148 non-null float64\n",
      "primary_cleaner.state.floatbank8_c_air        14147 non-null float64\n",
      "primary_cleaner.state.floatbank8_c_level      14148 non-null float64\n",
      "primary_cleaner.state.floatbank8_d_air        14146 non-null float64\n",
      "primary_cleaner.state.floatbank8_d_level      14148 non-null float64\n",
      "rougher.input.feed_ag                         14149 non-null float64\n",
      "rougher.input.feed_pb                         14049 non-null float64\n",
      "rougher.input.feed_rate                       14141 non-null float64\n",
      "rougher.input.feed_size                       14005 non-null float64\n",
      "rougher.input.feed_sol                        14071 non-null float64\n",
      "rougher.input.feed_au                         14149 non-null float64\n",
      "rougher.input.floatbank10_sulfate             14120 non-null float64\n",
      "rougher.input.floatbank10_xanthate            14141 non-null float64\n",
      "rougher.input.floatbank11_sulfate             14113 non-null float64\n",
      "rougher.input.floatbank11_xanthate            13721 non-null float64\n",
      "rougher.state.floatbank10_a_air               14148 non-null float64\n",
      "rougher.state.floatbank10_a_level             14148 non-null float64\n",
      "rougher.state.floatbank10_b_air               14148 non-null float64\n",
      "rougher.state.floatbank10_b_level             14148 non-null float64\n",
      "rougher.state.floatbank10_c_air               14148 non-null float64\n",
      "rougher.state.floatbank10_c_level             14148 non-null float64\n",
      "rougher.state.floatbank10_d_air               14149 non-null float64\n",
      "rougher.state.floatbank10_d_level             14149 non-null float64\n",
      "rougher.state.floatbank10_e_air               13713 non-null float64\n",
      "rougher.state.floatbank10_e_level             14149 non-null float64\n",
      "rougher.state.floatbank10_f_air               14149 non-null float64\n",
      "rougher.state.floatbank10_f_level             14149 non-null float64\n",
      "secondary_cleaner.state.floatbank2_a_air      13932 non-null float64\n",
      "secondary_cleaner.state.floatbank2_a_level    14148 non-null float64\n",
      "secondary_cleaner.state.floatbank2_b_air      14128 non-null float64\n",
      "secondary_cleaner.state.floatbank2_b_level    14148 non-null float64\n",
      "secondary_cleaner.state.floatbank3_a_air      14145 non-null float64\n",
      "secondary_cleaner.state.floatbank3_a_level    14148 non-null float64\n",
      "secondary_cleaner.state.floatbank3_b_air      14148 non-null float64\n",
      "secondary_cleaner.state.floatbank3_b_level    14148 non-null float64\n",
      "secondary_cleaner.state.floatbank4_a_air      14143 non-null float64\n",
      "secondary_cleaner.state.floatbank4_a_level    14148 non-null float64\n",
      "secondary_cleaner.state.floatbank4_b_air      14148 non-null float64\n",
      "secondary_cleaner.state.floatbank4_b_level    14148 non-null float64\n",
      "secondary_cleaner.state.floatbank5_a_air      14148 non-null float64\n",
      "secondary_cleaner.state.floatbank5_a_level    14148 non-null float64\n",
      "secondary_cleaner.state.floatbank5_b_air      14148 non-null float64\n",
      "secondary_cleaner.state.floatbank5_b_level    14148 non-null float64\n",
      "secondary_cleaner.state.floatbank6_a_air      14147 non-null float64\n",
      "secondary_cleaner.state.floatbank6_a_level    14148 non-null float64\n",
      "rougher.output.recovery                       14149 non-null float64\n",
      "final.output.recovery                         14149 non-null float64\n",
      "dtypes: float64(54)\n",
      "memory usage: 5.9 MB\n",
      "None\n",
      "<class 'pandas.core.frame.DataFrame'>\n",
      "DatetimeIndex: 5290 entries, 2016-09-01 00:59:59 to 2017-12-31 23:59:59\n",
      "Data columns (total 54 columns):\n",
      "primary_cleaner.input.sulfate                 5286 non-null float64\n",
      "primary_cleaner.input.depressant              5285 non-null float64\n",
      "primary_cleaner.input.feed_size               5290 non-null float64\n",
      "primary_cleaner.input.xanthate                5286 non-null float64\n",
      "primary_cleaner.state.floatbank8_a_air        5290 non-null float64\n",
      "primary_cleaner.state.floatbank8_a_level      5290 non-null float64\n",
      "primary_cleaner.state.floatbank8_b_air        5290 non-null float64\n",
      "primary_cleaner.state.floatbank8_b_level      5290 non-null float64\n",
      "primary_cleaner.state.floatbank8_c_air        5290 non-null float64\n",
      "primary_cleaner.state.floatbank8_c_level      5290 non-null float64\n",
      "primary_cleaner.state.floatbank8_d_air        5290 non-null float64\n",
      "primary_cleaner.state.floatbank8_d_level      5290 non-null float64\n",
      "rougher.input.feed_ag                         5290 non-null float64\n",
      "rougher.input.feed_pb                         5290 non-null float64\n",
      "rougher.input.feed_rate                       5287 non-null float64\n",
      "rougher.input.feed_size                       5289 non-null float64\n",
      "rougher.input.feed_sol                        5269 non-null float64\n",
      "rougher.input.feed_au                         5290 non-null float64\n",
      "rougher.input.floatbank10_sulfate             5285 non-null float64\n",
      "rougher.input.floatbank10_xanthate            5290 non-null float64\n",
      "rougher.input.floatbank11_sulfate             5282 non-null float64\n",
      "rougher.input.floatbank11_xanthate            5265 non-null float64\n",
      "rougher.state.floatbank10_a_air               5290 non-null float64\n",
      "rougher.state.floatbank10_a_level             5290 non-null float64\n",
      "rougher.state.floatbank10_b_air               5290 non-null float64\n",
      "rougher.state.floatbank10_b_level             5290 non-null float64\n",
      "rougher.state.floatbank10_c_air               5290 non-null float64\n",
      "rougher.state.floatbank10_c_level             5290 non-null float64\n",
      "rougher.state.floatbank10_d_air               5290 non-null float64\n",
      "rougher.state.floatbank10_d_level             5290 non-null float64\n",
      "rougher.state.floatbank10_e_air               5290 non-null float64\n",
      "rougher.state.floatbank10_e_level             5290 non-null float64\n",
      "rougher.state.floatbank10_f_air               5290 non-null float64\n",
      "rougher.state.floatbank10_f_level             5290 non-null float64\n",
      "secondary_cleaner.state.floatbank2_a_air      5287 non-null float64\n",
      "secondary_cleaner.state.floatbank2_a_level    5290 non-null float64\n",
      "secondary_cleaner.state.floatbank2_b_air      5288 non-null float64\n",
      "secondary_cleaner.state.floatbank2_b_level    5290 non-null float64\n",
      "secondary_cleaner.state.floatbank3_a_air      5281 non-null float64\n",
      "secondary_cleaner.state.floatbank3_a_level    5290 non-null float64\n",
      "secondary_cleaner.state.floatbank3_b_air      5290 non-null float64\n",
      "secondary_cleaner.state.floatbank3_b_level    5290 non-null float64\n",
      "secondary_cleaner.state.floatbank4_a_air      5290 non-null float64\n",
      "secondary_cleaner.state.floatbank4_a_level    5290 non-null float64\n",
      "secondary_cleaner.state.floatbank4_b_air      5290 non-null float64\n",
      "secondary_cleaner.state.floatbank4_b_level    5290 non-null float64\n",
      "secondary_cleaner.state.floatbank5_a_air      5290 non-null float64\n",
      "secondary_cleaner.state.floatbank5_a_level    5290 non-null float64\n",
      "secondary_cleaner.state.floatbank5_b_air      5290 non-null float64\n",
      "secondary_cleaner.state.floatbank5_b_level    5290 non-null float64\n",
      "secondary_cleaner.state.floatbank6_a_air      5290 non-null float64\n",
      "secondary_cleaner.state.floatbank6_a_level    5290 non-null float64\n",
      "rougher.output.recovery                       5290 non-null float64\n",
      "final.output.recovery                         5290 non-null float64\n",
      "dtypes: float64(54)\n",
      "memory usage: 2.2 MB\n",
      "None\n"
     ]
    }
   ],
   "source": [
    "data_train.dropna(subset=['final.output.recovery', 'rougher.output.recovery'], inplace=True)\n",
    "data_test.dropna(subset=['final.output.recovery', 'rougher.output.recovery'], inplace=True)\n",
    "print(data_train.info())\n",
    "print(data_test.info())"
   ]
  },
  {
   "cell_type": "markdown",
   "metadata": {},
   "source": [
    "Удаление строк с пропущенными значениями в целевых признаках прошло успешно. Перейдем к пропущенным значениям в остальных признаках. Данные в наших выборках упорядочены по времени. Соседние по времени значения признаков очень близки, поэтому мы можем использовать метод ffill для заполнения - он заполнит пропущенные значения на основании соседних по времени. "
   ]
  },
  {
   "cell_type": "code",
   "execution_count": 12,
   "metadata": {},
   "outputs": [
    {
     "name": "stdout",
     "output_type": "stream",
     "text": [
      "<class 'pandas.core.frame.DataFrame'>\n",
      "DatetimeIndex: 14149 entries, 2016-01-15 00:00:00 to 2018-08-18 10:59:59\n",
      "Data columns (total 54 columns):\n",
      "primary_cleaner.input.sulfate                 14149 non-null float64\n",
      "primary_cleaner.input.depressant              14149 non-null float64\n",
      "primary_cleaner.input.feed_size               14149 non-null float64\n",
      "primary_cleaner.input.xanthate                14149 non-null float64\n",
      "primary_cleaner.state.floatbank8_a_air        14149 non-null float64\n",
      "primary_cleaner.state.floatbank8_a_level      14149 non-null float64\n",
      "primary_cleaner.state.floatbank8_b_air        14149 non-null float64\n",
      "primary_cleaner.state.floatbank8_b_level      14149 non-null float64\n",
      "primary_cleaner.state.floatbank8_c_air        14149 non-null float64\n",
      "primary_cleaner.state.floatbank8_c_level      14149 non-null float64\n",
      "primary_cleaner.state.floatbank8_d_air        14149 non-null float64\n",
      "primary_cleaner.state.floatbank8_d_level      14149 non-null float64\n",
      "rougher.input.feed_ag                         14149 non-null float64\n",
      "rougher.input.feed_pb                         14149 non-null float64\n",
      "rougher.input.feed_rate                       14149 non-null float64\n",
      "rougher.input.feed_size                       14149 non-null float64\n",
      "rougher.input.feed_sol                        14149 non-null float64\n",
      "rougher.input.feed_au                         14149 non-null float64\n",
      "rougher.input.floatbank10_sulfate             14149 non-null float64\n",
      "rougher.input.floatbank10_xanthate            14149 non-null float64\n",
      "rougher.input.floatbank11_sulfate             14149 non-null float64\n",
      "rougher.input.floatbank11_xanthate            14149 non-null float64\n",
      "rougher.state.floatbank10_a_air               14149 non-null float64\n",
      "rougher.state.floatbank10_a_level             14149 non-null float64\n",
      "rougher.state.floatbank10_b_air               14149 non-null float64\n",
      "rougher.state.floatbank10_b_level             14149 non-null float64\n",
      "rougher.state.floatbank10_c_air               14149 non-null float64\n",
      "rougher.state.floatbank10_c_level             14149 non-null float64\n",
      "rougher.state.floatbank10_d_air               14149 non-null float64\n",
      "rougher.state.floatbank10_d_level             14149 non-null float64\n",
      "rougher.state.floatbank10_e_air               14149 non-null float64\n",
      "rougher.state.floatbank10_e_level             14149 non-null float64\n",
      "rougher.state.floatbank10_f_air               14149 non-null float64\n",
      "rougher.state.floatbank10_f_level             14149 non-null float64\n",
      "secondary_cleaner.state.floatbank2_a_air      14149 non-null float64\n",
      "secondary_cleaner.state.floatbank2_a_level    14149 non-null float64\n",
      "secondary_cleaner.state.floatbank2_b_air      14149 non-null float64\n",
      "secondary_cleaner.state.floatbank2_b_level    14149 non-null float64\n",
      "secondary_cleaner.state.floatbank3_a_air      14149 non-null float64\n",
      "secondary_cleaner.state.floatbank3_a_level    14149 non-null float64\n",
      "secondary_cleaner.state.floatbank3_b_air      14149 non-null float64\n",
      "secondary_cleaner.state.floatbank3_b_level    14149 non-null float64\n",
      "secondary_cleaner.state.floatbank4_a_air      14149 non-null float64\n",
      "secondary_cleaner.state.floatbank4_a_level    14149 non-null float64\n",
      "secondary_cleaner.state.floatbank4_b_air      14149 non-null float64\n",
      "secondary_cleaner.state.floatbank4_b_level    14149 non-null float64\n",
      "secondary_cleaner.state.floatbank5_a_air      14149 non-null float64\n",
      "secondary_cleaner.state.floatbank5_a_level    14149 non-null float64\n",
      "secondary_cleaner.state.floatbank5_b_air      14149 non-null float64\n",
      "secondary_cleaner.state.floatbank5_b_level    14149 non-null float64\n",
      "secondary_cleaner.state.floatbank6_a_air      14149 non-null float64\n",
      "secondary_cleaner.state.floatbank6_a_level    14149 non-null float64\n",
      "rougher.output.recovery                       14149 non-null float64\n",
      "final.output.recovery                         14149 non-null float64\n",
      "dtypes: float64(54)\n",
      "memory usage: 5.9 MB\n",
      "None\n",
      "<class 'pandas.core.frame.DataFrame'>\n",
      "DatetimeIndex: 5290 entries, 2016-09-01 00:59:59 to 2017-12-31 23:59:59\n",
      "Data columns (total 54 columns):\n",
      "primary_cleaner.input.sulfate                 5290 non-null float64\n",
      "primary_cleaner.input.depressant              5290 non-null float64\n",
      "primary_cleaner.input.feed_size               5290 non-null float64\n",
      "primary_cleaner.input.xanthate                5290 non-null float64\n",
      "primary_cleaner.state.floatbank8_a_air        5290 non-null float64\n",
      "primary_cleaner.state.floatbank8_a_level      5290 non-null float64\n",
      "primary_cleaner.state.floatbank8_b_air        5290 non-null float64\n",
      "primary_cleaner.state.floatbank8_b_level      5290 non-null float64\n",
      "primary_cleaner.state.floatbank8_c_air        5290 non-null float64\n",
      "primary_cleaner.state.floatbank8_c_level      5290 non-null float64\n",
      "primary_cleaner.state.floatbank8_d_air        5290 non-null float64\n",
      "primary_cleaner.state.floatbank8_d_level      5290 non-null float64\n",
      "rougher.input.feed_ag                         5290 non-null float64\n",
      "rougher.input.feed_pb                         5290 non-null float64\n",
      "rougher.input.feed_rate                       5290 non-null float64\n",
      "rougher.input.feed_size                       5290 non-null float64\n",
      "rougher.input.feed_sol                        5290 non-null float64\n",
      "rougher.input.feed_au                         5290 non-null float64\n",
      "rougher.input.floatbank10_sulfate             5290 non-null float64\n",
      "rougher.input.floatbank10_xanthate            5290 non-null float64\n",
      "rougher.input.floatbank11_sulfate             5290 non-null float64\n",
      "rougher.input.floatbank11_xanthate            5290 non-null float64\n",
      "rougher.state.floatbank10_a_air               5290 non-null float64\n",
      "rougher.state.floatbank10_a_level             5290 non-null float64\n",
      "rougher.state.floatbank10_b_air               5290 non-null float64\n",
      "rougher.state.floatbank10_b_level             5290 non-null float64\n",
      "rougher.state.floatbank10_c_air               5290 non-null float64\n",
      "rougher.state.floatbank10_c_level             5290 non-null float64\n",
      "rougher.state.floatbank10_d_air               5290 non-null float64\n",
      "rougher.state.floatbank10_d_level             5290 non-null float64\n",
      "rougher.state.floatbank10_e_air               5290 non-null float64\n",
      "rougher.state.floatbank10_e_level             5290 non-null float64\n",
      "rougher.state.floatbank10_f_air               5290 non-null float64\n",
      "rougher.state.floatbank10_f_level             5290 non-null float64\n",
      "secondary_cleaner.state.floatbank2_a_air      5290 non-null float64\n",
      "secondary_cleaner.state.floatbank2_a_level    5290 non-null float64\n",
      "secondary_cleaner.state.floatbank2_b_air      5290 non-null float64\n",
      "secondary_cleaner.state.floatbank2_b_level    5290 non-null float64\n",
      "secondary_cleaner.state.floatbank3_a_air      5290 non-null float64\n",
      "secondary_cleaner.state.floatbank3_a_level    5290 non-null float64\n",
      "secondary_cleaner.state.floatbank3_b_air      5290 non-null float64\n",
      "secondary_cleaner.state.floatbank3_b_level    5290 non-null float64\n",
      "secondary_cleaner.state.floatbank4_a_air      5290 non-null float64\n",
      "secondary_cleaner.state.floatbank4_a_level    5290 non-null float64\n",
      "secondary_cleaner.state.floatbank4_b_air      5290 non-null float64\n",
      "secondary_cleaner.state.floatbank4_b_level    5290 non-null float64\n",
      "secondary_cleaner.state.floatbank5_a_air      5290 non-null float64\n",
      "secondary_cleaner.state.floatbank5_a_level    5290 non-null float64\n",
      "secondary_cleaner.state.floatbank5_b_air      5290 non-null float64\n",
      "secondary_cleaner.state.floatbank5_b_level    5290 non-null float64\n",
      "secondary_cleaner.state.floatbank6_a_air      5290 non-null float64\n",
      "secondary_cleaner.state.floatbank6_a_level    5290 non-null float64\n",
      "rougher.output.recovery                       5290 non-null float64\n",
      "final.output.recovery                         5290 non-null float64\n",
      "dtypes: float64(54)\n",
      "memory usage: 2.2 MB\n",
      "None\n"
     ]
    }
   ],
   "source": [
    "data_train = data_train.fillna(method='ffill')\n",
    "data_test = data_test.fillna(method='ffill')\n",
    "print(data_train.info())\n",
    "print(data_test.info())"
   ]
  },
  {
   "cell_type": "markdown",
   "metadata": {},
   "source": [
    "Заполнение пропусков прошло успешно. "
   ]
  },
  {
   "cell_type": "markdown",
   "metadata": {},
   "source": [
    "# Вывод "
   ]
  },
  {
   "cell_type": "markdown",
   "metadata": {},
   "source": [
    "Мы загрузили данные, проверили верность расчетов целевых признаков, удалили лишние столбцы в выборках, добавили нужные. Удалили строки с пропусками в целевых признаках и заполнили пропуски в остальных признаках. Данные готовы к дальнейшему анализу. "
   ]
  },
  {
   "cell_type": "markdown",
   "metadata": {},
   "source": [
    "# 2. Анализ данных"
   ]
  },
  {
   "cell_type": "markdown",
   "metadata": {},
   "source": [
    "В этом блоке мы посмотрим, как меняется концентрация металлов (Au, Ag, Pb) на различных этапах очистки и опишем выводы.<br><br>\n",
    "Сравним распределения размеров гранул сырья на обучающей и тестовой выборках. Если распределения сильно отличаются друг от друга, оценка модели будет неправильной.<br><br>\n",
    "Исследуем суммарную концентрацию всех веществ на разных стадиях: в сырье, в черновом и финальном концентратах. Есть ли аномальные значения в суммарном распределении или нет? Если они есть, стоит ли их удалять из обеих выборок? Опишем выводы."
   ]
  },
  {
   "cell_type": "markdown",
   "metadata": {},
   "source": [
    "### Как меняется концентрация металлов (Au, Ag, Pb) на различных этапах очистки"
   ]
  },
  {
   "cell_type": "markdown",
   "metadata": {},
   "source": [
    "Для анализа изменений концентрации металлов на различных этапах очистки мы будем использовать полный датасет (data_full). Построим графики для каждого металла по значениям столбцов 'rougher.input.feed_...',\n",
    "'rougher.output.concentrate_...',\n",
    "'primary_cleaner.output.concentrate_...,\n",
    "'final.output.concentrate_...'. \n",
    "<br><br>\n",
    "Создадим датасеты для каждого вида металла. "
   ]
  },
  {
   "cell_type": "code",
   "execution_count": 13,
   "metadata": {
    "scrolled": true
   },
   "outputs": [
    {
     "name": "stdout",
     "output_type": "stream",
     "text": [
      "<class 'pandas.core.frame.DataFrame'>\n",
      "DatetimeIndex: 22716 entries, 2016-01-15 00:00:00 to 2018-08-18 10:59:59\n",
      "Data columns (total 86 columns):\n",
      "final.output.concentrate_ag                           22627 non-null float64\n",
      "final.output.concentrate_pb                           22629 non-null float64\n",
      "final.output.concentrate_sol                          22331 non-null float64\n",
      "final.output.concentrate_au                           22630 non-null float64\n",
      "final.output.recovery                                 20753 non-null float64\n",
      "final.output.tail_ag                                  22633 non-null float64\n",
      "final.output.tail_pb                                  22516 non-null float64\n",
      "final.output.tail_sol                                 22445 non-null float64\n",
      "final.output.tail_au                                  22635 non-null float64\n",
      "primary_cleaner.input.sulfate                         21107 non-null float64\n",
      "primary_cleaner.input.depressant                      21170 non-null float64\n",
      "primary_cleaner.input.feed_size                       22716 non-null float64\n",
      "primary_cleaner.input.xanthate                        21565 non-null float64\n",
      "primary_cleaner.output.concentrate_ag                 22618 non-null float64\n",
      "primary_cleaner.output.concentrate_pb                 22268 non-null float64\n",
      "primary_cleaner.output.concentrate_sol                21918 non-null float64\n",
      "primary_cleaner.output.concentrate_au                 22618 non-null float64\n",
      "primary_cleaner.output.tail_ag                        22614 non-null float64\n",
      "primary_cleaner.output.tail_pb                        22594 non-null float64\n",
      "primary_cleaner.output.tail_sol                       22365 non-null float64\n",
      "primary_cleaner.output.tail_au                        22617 non-null float64\n",
      "primary_cleaner.state.floatbank8_a_air                22660 non-null float64\n",
      "primary_cleaner.state.floatbank8_a_level              22667 non-null float64\n",
      "primary_cleaner.state.floatbank8_b_air                22660 non-null float64\n",
      "primary_cleaner.state.floatbank8_b_level              22673 non-null float64\n",
      "primary_cleaner.state.floatbank8_c_air                22662 non-null float64\n",
      "primary_cleaner.state.floatbank8_c_level              22673 non-null float64\n",
      "primary_cleaner.state.floatbank8_d_air                22661 non-null float64\n",
      "primary_cleaner.state.floatbank8_d_level              22673 non-null float64\n",
      "rougher.calculation.sulfate_to_au_concentrate         22672 non-null float64\n",
      "rougher.calculation.floatbank10_sulfate_to_au_feed    22672 non-null float64\n",
      "rougher.calculation.floatbank11_sulfate_to_au_feed    22672 non-null float64\n",
      "rougher.calculation.au_pb_ratio                       21089 non-null float64\n",
      "rougher.input.feed_ag                                 22618 non-null float64\n",
      "rougher.input.feed_pb                                 22472 non-null float64\n",
      "rougher.input.feed_rate                               22163 non-null float64\n",
      "rougher.input.feed_size                               22277 non-null float64\n",
      "rougher.input.feed_sol                                22357 non-null float64\n",
      "rougher.input.feed_au                                 22617 non-null float64\n",
      "rougher.input.floatbank10_sulfate                     21415 non-null float64\n",
      "rougher.input.floatbank10_xanthate                    22247 non-null float64\n",
      "rougher.input.floatbank11_sulfate                     22038 non-null float64\n",
      "rougher.input.floatbank11_xanthate                    20459 non-null float64\n",
      "rougher.output.concentrate_ag                         22618 non-null float64\n",
      "rougher.output.concentrate_pb                         22618 non-null float64\n",
      "rougher.output.concentrate_sol                        22526 non-null float64\n",
      "rougher.output.concentrate_au                         22618 non-null float64\n",
      "rougher.output.recovery                               19597 non-null float64\n",
      "rougher.output.tail_ag                                19979 non-null float64\n",
      "rougher.output.tail_pb                                22618 non-null float64\n",
      "rougher.output.tail_sol                               19980 non-null float64\n",
      "rougher.output.tail_au                                19980 non-null float64\n",
      "rougher.state.floatbank10_a_air                       22646 non-null float64\n",
      "rougher.state.floatbank10_a_level                     22647 non-null float64\n",
      "rougher.state.floatbank10_b_air                       22646 non-null float64\n",
      "rougher.state.floatbank10_b_level                     22647 non-null float64\n",
      "rougher.state.floatbank10_c_air                       22646 non-null float64\n",
      "rougher.state.floatbank10_c_level                     22654 non-null float64\n",
      "rougher.state.floatbank10_d_air                       22641 non-null float64\n",
      "rougher.state.floatbank10_d_level                     22649 non-null float64\n",
      "rougher.state.floatbank10_e_air                       22096 non-null float64\n",
      "rougher.state.floatbank10_e_level                     22649 non-null float64\n",
      "rougher.state.floatbank10_f_air                       22641 non-null float64\n",
      "rougher.state.floatbank10_f_level                     22642 non-null float64\n",
      "secondary_cleaner.output.tail_ag                      22616 non-null float64\n",
      "secondary_cleaner.output.tail_pb                      22600 non-null float64\n",
      "secondary_cleaner.output.tail_sol                     20501 non-null float64\n",
      "secondary_cleaner.output.tail_au                      22618 non-null float64\n",
      "secondary_cleaner.state.floatbank2_a_air              22333 non-null float64\n",
      "secondary_cleaner.state.floatbank2_a_level            22591 non-null float64\n",
      "secondary_cleaner.state.floatbank2_b_air              22538 non-null float64\n",
      "secondary_cleaner.state.floatbank2_b_level            22588 non-null float64\n",
      "secondary_cleaner.state.floatbank3_a_air              22585 non-null float64\n",
      "secondary_cleaner.state.floatbank3_a_level            22587 non-null float64\n",
      "secondary_cleaner.state.floatbank3_b_air              22592 non-null float64\n",
      "secondary_cleaner.state.floatbank3_b_level            22590 non-null float64\n",
      "secondary_cleaner.state.floatbank4_a_air              22571 non-null float64\n",
      "secondary_cleaner.state.floatbank4_a_level            22587 non-null float64\n",
      "secondary_cleaner.state.floatbank4_b_air              22608 non-null float64\n",
      "secondary_cleaner.state.floatbank4_b_level            22607 non-null float64\n",
      "secondary_cleaner.state.floatbank5_a_air              22615 non-null float64\n",
      "secondary_cleaner.state.floatbank5_a_level            22615 non-null float64\n",
      "secondary_cleaner.state.floatbank5_b_air              22615 non-null float64\n",
      "secondary_cleaner.state.floatbank5_b_level            22616 non-null float64\n",
      "secondary_cleaner.state.floatbank6_a_air              22597 non-null float64\n",
      "secondary_cleaner.state.floatbank6_a_level            22615 non-null float64\n",
      "dtypes: float64(86)\n",
      "memory usage: 15.7 MB\n"
     ]
    }
   ],
   "source": [
    "data_full.info()"
   ]
  },
  {
   "cell_type": "code",
   "execution_count": 14,
   "metadata": {},
   "outputs": [
    {
     "data": {
      "text/html": [
       "<div>\n",
       "<style scoped>\n",
       "    .dataframe tbody tr th:only-of-type {\n",
       "        vertical-align: middle;\n",
       "    }\n",
       "\n",
       "    .dataframe tbody tr th {\n",
       "        vertical-align: top;\n",
       "    }\n",
       "\n",
       "    .dataframe thead th {\n",
       "        text-align: right;\n",
       "    }\n",
       "</style>\n",
       "<table border=\"1\" class=\"dataframe\">\n",
       "  <thead>\n",
       "    <tr style=\"text-align: right;\">\n",
       "      <th></th>\n",
       "      <th>index</th>\n",
       "      <th>0</th>\n",
       "    </tr>\n",
       "  </thead>\n",
       "  <tbody>\n",
       "    <tr>\n",
       "      <td>0</td>\n",
       "      <td>rougher.input.feed_au</td>\n",
       "      <td>171116.552519</td>\n",
       "    </tr>\n",
       "    <tr>\n",
       "      <td>1</td>\n",
       "      <td>rougher.output.concentrate_au</td>\n",
       "      <td>404399.395076</td>\n",
       "    </tr>\n",
       "    <tr>\n",
       "      <td>2</td>\n",
       "      <td>primary_cleaner.output.concentrate_au</td>\n",
       "      <td>660723.545867</td>\n",
       "    </tr>\n",
       "    <tr>\n",
       "      <td>3</td>\n",
       "      <td>final.output.concentrate_au</td>\n",
       "      <td>905226.520007</td>\n",
       "    </tr>\n",
       "  </tbody>\n",
       "</table>\n",
       "</div>"
      ],
      "text/plain": [
       "                                   index              0\n",
       "0                  rougher.input.feed_au  171116.552519\n",
       "1          rougher.output.concentrate_au  404399.395076\n",
       "2  primary_cleaner.output.concentrate_au  660723.545867\n",
       "3            final.output.concentrate_au  905226.520007"
      ]
     },
     "execution_count": 14,
     "metadata": {},
     "output_type": "execute_result"
    }
   ],
   "source": [
    "data_au = data_full[['rougher.input.feed_au', 'rougher.output.concentrate_au', 'primary_cleaner.output.concentrate_au', 'final.output.concentrate_au']]\n",
    "data_au = pd.DataFrame(data_au.sum(axis = 0, skipna = True)).reset_index()\n",
    "\n",
    "data_ag = data_full[['rougher.input.feed_ag', 'rougher.output.concentrate_ag', 'primary_cleaner.output.concentrate_ag', 'final.output.concentrate_ag']]\n",
    "data_ag = pd.DataFrame(data_ag.sum(axis = 0, skipna = True)).reset_index()\n",
    "\n",
    "data_pb = data_full[['rougher.input.feed_pb', 'rougher.output.concentrate_pb', 'primary_cleaner.output.concentrate_pb', 'final.output.concentrate_pb']]\n",
    "data_pb = pd.DataFrame(data_pb.sum(axis = 0, skipna = True)).reset_index()\n",
    "\n",
    "data_au"
   ]
  },
  {
   "cell_type": "markdown",
   "metadata": {},
   "source": [
    "Выделение отдельных датасетов прошло успешно. Построим гистограммы по каждому металлу. "
   ]
  },
  {
   "cell_type": "code",
   "execution_count": 15,
   "metadata": {
    "scrolled": true
   },
   "outputs": [
    {
     "data": {
      "image/png": "[encoded data removed]",
      "text/plain": [
       "<Figure size 792x504 with 1 Axes>"
      ]
     },
     "metadata": {
      "needs_background": "light"
     },
     "output_type": "display_data"
    },
    {
     "data": {
      "image/png": "[encoded data removed]",
      "text/plain": [
       "<Figure size 792x504 with 1 Axes>"
      ]
     },
     "metadata": {
      "needs_background": "light"
     },
     "output_type": "display_data"
    },
    {
     "data": {
      "image/png": "[encoded data removed]",
      "text/plain": [
       "<Figure size 792x504 with 1 Axes>"
      ]
     },
     "metadata": {
      "needs_background": "light"
     },
     "output_type": "display_data"
    }
   ],
   "source": [
    "sns.barplot(x=0, y='index', data=data_au)\\\n",
    "    .set(xlabel='Этап обработки', ylabel='Концентрация металла', title='Концентрация золота на различных этапах очистки')\n",
    "plt.show()\n",
    "\n",
    "sns.barplot(x=0, y='index', data=data_ag)\\\n",
    "    .set(xlabel='Этап обработки', ylabel='Концентрация металла', title='Концентрация серебра на различных этапах очистки')\n",
    "plt.show()\n",
    "\n",
    "sns.barplot(x=0, y='index', data=data_pb)\\\n",
    "    .set(xlabel='Этап обработки', ylabel='Концентрация металла', title='Концентрация свинца на различных этапах очистки')\n",
    "plt.show()"
   ]
  },
  {
   "cell_type": "markdown",
   "metadata": {},
   "source": [
    "Из графиков выше мы видим, что концентрация золота и свинца с прохождением каждого этапа растет, а вот концентрация серебра растет после флотации и падает после прохождения следующих этапов. "
   ]
  },
  {
   "cell_type": "markdown",
   "metadata": {},
   "source": [
    "### Сравнение распределения размеров гранул сырья на обучающей и тестовой выборках"
   ]
  },
  {
   "cell_type": "markdown",
   "metadata": {},
   "source": [
    "Сравним распределения размеров гранул сырья на обучающей и тестовой выборках. Если распределения сильно отличаются друг от друга, оценка модели будет неправильной."
   ]
  },
  {
   "cell_type": "code",
   "execution_count": 16,
   "metadata": {},
   "outputs": [
    {
     "data": {
      "image/png": "[encoded data removed]",
      "text/plain": [
       "<Figure size 792x504 with 1 Axes>"
      ]
     },
     "metadata": {
      "needs_background": "light"
     },
     "output_type": "display_data"
    }
   ],
   "source": [
    "sns.kdeplot(data_train['rougher.input.feed_size'], label='Обучающая выборка')\\\n",
    "    .set(xlabel='Размер гранул', ylabel='Частотность', title='Распределение размеров гранул сырья на обучающей и тестовой выборках')\n",
    "sns.kdeplot(data_test['rougher.input.feed_size'], label='Тестовая выборка выборка')\\\n",
    "    .set(xlabel='Размер гранул', ylabel='Частотность')\n",
    "plt.xlim(0, 200)\n",
    "plt.legend()\n",
    "plt.show()"
   ]
  },
  {
   "cell_type": "markdown",
   "metadata": {},
   "source": [
    "Из графика выше мы видим, что распределеения размеров гранул сырья на обучающей и тестовой выборках очень похожи, а значит, значения этого признака не будут негативно влиять на оценку модели. "
   ]
  },
  {
   "cell_type": "markdown",
   "metadata": {},
   "source": [
    "### Исследование суммарной концентрации всех веществ на разных стадиях: в сырье, в черновом и финальном концентратах"
   ]
  },
  {
   "cell_type": "markdown",
   "metadata": {},
   "source": [
    "Исследуем суммарную концентрацию всех веществ на разных стадиях: в сырье, в черновом и финальном концентратах. Есть ли аномальные значения в суммарном распределении или нет? Если они есть, стоит ли их удалять из обеих выборок? Опишем выводы."
   ]
  },
  {
   "cell_type": "markdown",
   "metadata": {},
   "source": [
    "Просуммируем 4 вещества: au, ag, pb, sol для каждой группы признаков: rougher.input.feed, rougher.output.concentrate, final.output.concentrate. Для этого будем использовать полную выборку. "
   ]
  },
  {
   "cell_type": "code",
   "execution_count": 17,
   "metadata": {},
   "outputs": [
    {
     "data": {
      "text/plain": [
       "date\n",
       "2016-01-15 00:00:00    63.644396\n",
       "2016-01-15 01:00:00    63.957723\n",
       "2016-01-15 02:00:00    64.311180\n",
       "2016-01-15 03:00:00    63.573449\n",
       "2016-01-15 04:00:00    64.004667\n",
       "                         ...    \n",
       "2018-08-18 06:59:59    68.098589\n",
       "2018-08-18 07:59:59    68.274362\n",
       "2018-08-18 08:59:59    68.226068\n",
       "2018-08-18 09:59:59    68.200449\n",
       "2018-08-18 10:59:59    68.353154\n",
       "Name: final.output.concentrate_sum, Length: 22716, dtype: float64"
      ]
     },
     "execution_count": 17,
     "metadata": {},
     "output_type": "execute_result"
    }
   ],
   "source": [
    "data_full['rougher.input.feed_sum'] = data_full['rougher.input.feed_au'] + data_full['rougher.input.feed_ag'] +\\\n",
    "    + data_full['rougher.input.feed_pb'] + data_full['rougher.input.feed_sol']\n",
    "\n",
    "data_full['rougher.output.concentrate_sum'] = data_full['rougher.output.concentrate_au'] + data_full['rougher.output.concentrate_ag'] +\\\n",
    "    + data_full['rougher.output.concentrate_pb'] + data_full['rougher.output.concentrate_sol']\n",
    "\n",
    "data_full['final.output.concentrate_sum'] = data_full['final.output.concentrate_au'] + data_full['final.output.concentrate_ag'] +\\\n",
    "    + data_full['final.output.concentrate_pb'] + data_full['final.output.concentrate_sol']\n",
    "\n",
    "data_full['final.output.concentrate_sum']"
   ]
  },
  {
   "cell_type": "code",
   "execution_count": 18,
   "metadata": {},
   "outputs": [
    {
     "data": {
      "image/png": "[encoded data removed]",
      "text/plain": [
       "<Figure size 792x504 with 1 Axes>"
      ]
     },
     "metadata": {
      "needs_background": "light"
     },
     "output_type": "display_data"
    }
   ],
   "source": [
    "fich_name = ['rougher.input.feed_sum', 'rougher.output.concentrate_sum', 'final.output.concentrate_sum']\n",
    "\n",
    "for name in fich_name:\n",
    "    sns.kdeplot(data_full[name], label=name )\\\n",
    "        .set(xlabel='Суммарная концентрация всех веществ', ylabel='Частотность', \n",
    "             title='Распределение суммарной концентрации всех веществ на разных стадиях')"
   ]
  },
  {
   "cell_type": "markdown",
   "metadata": {},
   "source": [
    "На графике выше мы видим пики около нуля в сырье и черновом концентрате. Нулевые значения, скорее всего, являются ошибкой оператора. Эти данные будут негативно влиять не обучение модели, потому что являются не реальными данными. Необходимо удалить строки с нулевыми значениями из выборок. Наиболее верным будет удалять строки, где сумма всех трех значений равна нулю. Создадим столбец, в котором просуммируем три значения. "
   ]
  },
  {
   "cell_type": "code",
   "execution_count": 19,
   "metadata": {},
   "outputs": [
    {
     "data": {
      "text/plain": [
       "date\n",
       "2016-01-15 00:00:00    181.749379\n",
       "2016-01-15 01:00:00    181.629548\n",
       "2016-01-15 02:00:00    181.024901\n",
       "2016-01-15 03:00:00    180.387745\n",
       "2016-01-15 04:00:00    177.772212\n",
       "Name: sum_all, dtype: float64"
      ]
     },
     "execution_count": 19,
     "metadata": {},
     "output_type": "execute_result"
    }
   ],
   "source": [
    "data_full['sum_all'] = data_full['rougher.input.feed_sum'] + data_full['rougher.output.concentrate_sum']+\\\n",
    "    + data_full['final.output.concentrate_sum']\n",
    "\n",
    "data_full['sum_all'].head()"
   ]
  },
  {
   "cell_type": "markdown",
   "metadata": {},
   "source": [
    "Добавление суммарного столбца прошло успешно. Проверим наличие нулевых значений в этом столбце. "
   ]
  },
  {
   "cell_type": "code",
   "execution_count": 20,
   "metadata": {},
   "outputs": [
    {
     "data": {
      "image/png": "[encoded data removed]",
      "text/plain": [
       "<Figure size 792x504 with 1 Axes>"
      ]
     },
     "metadata": {
      "needs_background": "light"
     },
     "output_type": "display_data"
    }
   ],
   "source": [
    "sns.kdeplot(data_full['sum_all'])\\\n",
    "        .set(xlabel='Сумма по трем этапам', ylabel='Частотность', \n",
    "             title='Суммарная концентрации всех веществ на трех этапах')\n",
    "plt.show()"
   ]
  },
  {
   "cell_type": "markdown",
   "metadata": {},
   "source": [
    "Пик около нуля сохранился, а значит, у нас есть строки, в которых все три значения равны нулю. Также верным будет допустить погрешность в 0.25 для учета очень маленьких значений в случаях, когда в каком-то одном столбце все-таки есть минимальное значение. "
   ]
  },
  {
   "cell_type": "markdown",
   "metadata": {},
   "source": [
    "Оставим в учебной и тестовой выборках только строки с индексами неотрицательных значений столбца sum_all в data_full. "
   ]
  },
  {
   "cell_type": "code",
   "execution_count": 21,
   "metadata": {
    "scrolled": true
   },
   "outputs": [
    {
     "name": "stdout",
     "output_type": "stream",
     "text": [
      "<class 'pandas.core.frame.DataFrame'>\n",
      "DatetimeIndex: 13754 entries, 2016-01-15 00:00:00 to 2018-08-18 10:59:59\n",
      "Data columns (total 54 columns):\n",
      "primary_cleaner.input.sulfate                 13754 non-null float64\n",
      "primary_cleaner.input.depressant              13754 non-null float64\n",
      "primary_cleaner.input.feed_size               13754 non-null float64\n",
      "primary_cleaner.input.xanthate                13754 non-null float64\n",
      "primary_cleaner.state.floatbank8_a_air        13754 non-null float64\n",
      "primary_cleaner.state.floatbank8_a_level      13754 non-null float64\n",
      "primary_cleaner.state.floatbank8_b_air        13754 non-null float64\n",
      "primary_cleaner.state.floatbank8_b_level      13754 non-null float64\n",
      "primary_cleaner.state.floatbank8_c_air        13754 non-null float64\n",
      "primary_cleaner.state.floatbank8_c_level      13754 non-null float64\n",
      "primary_cleaner.state.floatbank8_d_air        13754 non-null float64\n",
      "primary_cleaner.state.floatbank8_d_level      13754 non-null float64\n",
      "rougher.input.feed_ag                         13754 non-null float64\n",
      "rougher.input.feed_pb                         13754 non-null float64\n",
      "rougher.input.feed_rate                       13754 non-null float64\n",
      "rougher.input.feed_size                       13754 non-null float64\n",
      "rougher.input.feed_sol                        13754 non-null float64\n",
      "rougher.input.feed_au                         13754 non-null float64\n",
      "rougher.input.floatbank10_sulfate             13754 non-null float64\n",
      "rougher.input.floatbank10_xanthate            13754 non-null float64\n",
      "rougher.input.floatbank11_sulfate             13754 non-null float64\n",
      "rougher.input.floatbank11_xanthate            13754 non-null float64\n",
      "rougher.state.floatbank10_a_air               13754 non-null float64\n",
      "rougher.state.floatbank10_a_level             13754 non-null float64\n",
      "rougher.state.floatbank10_b_air               13754 non-null float64\n",
      "rougher.state.floatbank10_b_level             13754 non-null float64\n",
      "rougher.state.floatbank10_c_air               13754 non-null float64\n",
      "rougher.state.floatbank10_c_level             13754 non-null float64\n",
      "rougher.state.floatbank10_d_air               13754 non-null float64\n",
      "rougher.state.floatbank10_d_level             13754 non-null float64\n",
      "rougher.state.floatbank10_e_air               13754 non-null float64\n",
      "rougher.state.floatbank10_e_level             13754 non-null float64\n",
      "rougher.state.floatbank10_f_air               13754 non-null float64\n",
      "rougher.state.floatbank10_f_level             13754 non-null float64\n",
      "secondary_cleaner.state.floatbank2_a_air      13754 non-null float64\n",
      "secondary_cleaner.state.floatbank2_a_level    13754 non-null float64\n",
      "secondary_cleaner.state.floatbank2_b_air      13754 non-null float64\n",
      "secondary_cleaner.state.floatbank2_b_level    13754 non-null float64\n",
      "secondary_cleaner.state.floatbank3_a_air      13754 non-null float64\n",
      "secondary_cleaner.state.floatbank3_a_level    13754 non-null float64\n",
      "secondary_cleaner.state.floatbank3_b_air      13754 non-null float64\n",
      "secondary_cleaner.state.floatbank3_b_level    13754 non-null float64\n",
      "secondary_cleaner.state.floatbank4_a_air      13754 non-null float64\n",
      "secondary_cleaner.state.floatbank4_a_level    13754 non-null float64\n",
      "secondary_cleaner.state.floatbank4_b_air      13754 non-null float64\n",
      "secondary_cleaner.state.floatbank4_b_level    13754 non-null float64\n",
      "secondary_cleaner.state.floatbank5_a_air      13754 non-null float64\n",
      "secondary_cleaner.state.floatbank5_a_level    13754 non-null float64\n",
      "secondary_cleaner.state.floatbank5_b_air      13754 non-null float64\n",
      "secondary_cleaner.state.floatbank5_b_level    13754 non-null float64\n",
      "secondary_cleaner.state.floatbank6_a_air      13754 non-null float64\n",
      "secondary_cleaner.state.floatbank6_a_level    13754 non-null float64\n",
      "rougher.output.recovery                       13754 non-null float64\n",
      "final.output.recovery                         13754 non-null float64\n",
      "dtypes: float64(54)\n",
      "memory usage: 5.8 MB\n"
     ]
    },
    {
     "name": "stderr",
     "output_type": "stream",
     "text": [
      "/opt/conda/lib/python3.7/site-packages/ipykernel_launcher.py:1: UserWarning: Boolean Series key will be reindexed to match DataFrame index.\n",
      "  \"\"\"Entry point for launching an IPython kernel.\n"
     ]
    }
   ],
   "source": [
    "data_train = data_train[data_full['sum_all'] > 0.25]\n",
    "data_train.info()"
   ]
  },
  {
   "cell_type": "code",
   "execution_count": 22,
   "metadata": {
    "scrolled": true
   },
   "outputs": [
    {
     "name": "stdout",
     "output_type": "stream",
     "text": [
      "<class 'pandas.core.frame.DataFrame'>\n",
      "DatetimeIndex: 5268 entries, 2016-09-01 00:59:59 to 2017-12-31 23:59:59\n",
      "Data columns (total 54 columns):\n",
      "primary_cleaner.input.sulfate                 5268 non-null float64\n",
      "primary_cleaner.input.depressant              5268 non-null float64\n",
      "primary_cleaner.input.feed_size               5268 non-null float64\n",
      "primary_cleaner.input.xanthate                5268 non-null float64\n",
      "primary_cleaner.state.floatbank8_a_air        5268 non-null float64\n",
      "primary_cleaner.state.floatbank8_a_level      5268 non-null float64\n",
      "primary_cleaner.state.floatbank8_b_air        5268 non-null float64\n",
      "primary_cleaner.state.floatbank8_b_level      5268 non-null float64\n",
      "primary_cleaner.state.floatbank8_c_air        5268 non-null float64\n",
      "primary_cleaner.state.floatbank8_c_level      5268 non-null float64\n",
      "primary_cleaner.state.floatbank8_d_air        5268 non-null float64\n",
      "primary_cleaner.state.floatbank8_d_level      5268 non-null float64\n",
      "rougher.input.feed_ag                         5268 non-null float64\n",
      "rougher.input.feed_pb                         5268 non-null float64\n",
      "rougher.input.feed_rate                       5268 non-null float64\n",
      "rougher.input.feed_size                       5268 non-null float64\n",
      "rougher.input.feed_sol                        5268 non-null float64\n",
      "rougher.input.feed_au                         5268 non-null float64\n",
      "rougher.input.floatbank10_sulfate             5268 non-null float64\n",
      "rougher.input.floatbank10_xanthate            5268 non-null float64\n",
      "rougher.input.floatbank11_sulfate             5268 non-null float64\n",
      "rougher.input.floatbank11_xanthate            5268 non-null float64\n",
      "rougher.state.floatbank10_a_air               5268 non-null float64\n",
      "rougher.state.floatbank10_a_level             5268 non-null float64\n",
      "rougher.state.floatbank10_b_air               5268 non-null float64\n",
      "rougher.state.floatbank10_b_level             5268 non-null float64\n",
      "rougher.state.floatbank10_c_air               5268 non-null float64\n",
      "rougher.state.floatbank10_c_level             5268 non-null float64\n",
      "rougher.state.floatbank10_d_air               5268 non-null float64\n",
      "rougher.state.floatbank10_d_level             5268 non-null float64\n",
      "rougher.state.floatbank10_e_air               5268 non-null float64\n",
      "rougher.state.floatbank10_e_level             5268 non-null float64\n",
      "rougher.state.floatbank10_f_air               5268 non-null float64\n",
      "rougher.state.floatbank10_f_level             5268 non-null float64\n",
      "secondary_cleaner.state.floatbank2_a_air      5268 non-null float64\n",
      "secondary_cleaner.state.floatbank2_a_level    5268 non-null float64\n",
      "secondary_cleaner.state.floatbank2_b_air      5268 non-null float64\n",
      "secondary_cleaner.state.floatbank2_b_level    5268 non-null float64\n",
      "secondary_cleaner.state.floatbank3_a_air      5268 non-null float64\n",
      "secondary_cleaner.state.floatbank3_a_level    5268 non-null float64\n",
      "secondary_cleaner.state.floatbank3_b_air      5268 non-null float64\n",
      "secondary_cleaner.state.floatbank3_b_level    5268 non-null float64\n",
      "secondary_cleaner.state.floatbank4_a_air      5268 non-null float64\n",
      "secondary_cleaner.state.floatbank4_a_level    5268 non-null float64\n",
      "secondary_cleaner.state.floatbank4_b_air      5268 non-null float64\n",
      "secondary_cleaner.state.floatbank4_b_level    5268 non-null float64\n",
      "secondary_cleaner.state.floatbank5_a_air      5268 non-null float64\n",
      "secondary_cleaner.state.floatbank5_a_level    5268 non-null float64\n",
      "secondary_cleaner.state.floatbank5_b_air      5268 non-null float64\n",
      "secondary_cleaner.state.floatbank5_b_level    5268 non-null float64\n",
      "secondary_cleaner.state.floatbank6_a_air      5268 non-null float64\n",
      "secondary_cleaner.state.floatbank6_a_level    5268 non-null float64\n",
      "rougher.output.recovery                       5268 non-null float64\n",
      "final.output.recovery                         5268 non-null float64\n",
      "dtypes: float64(54)\n",
      "memory usage: 2.2 MB\n"
     ]
    },
    {
     "name": "stderr",
     "output_type": "stream",
     "text": [
      "/opt/conda/lib/python3.7/site-packages/ipykernel_launcher.py:1: UserWarning: Boolean Series key will be reindexed to match DataFrame index.\n",
      "  \"\"\"Entry point for launching an IPython kernel.\n"
     ]
    }
   ],
   "source": [
    "data_test = data_test[data_full['sum_all'] > 0.25]\n",
    "data_test.info()"
   ]
  },
  {
   "cell_type": "markdown",
   "metadata": {},
   "source": [
    "Удаление строк с нулевыми значениями прошло успешно. "
   ]
  },
  {
   "cell_type": "markdown",
   "metadata": {},
   "source": [
    "# Вывод "
   ]
  },
  {
   "cell_type": "markdown",
   "metadata": {},
   "source": [
    "В этом блоке мы посмотрели, как меняется концентрация металлов (Au, Ag, Pb) на различных этапах очистки. Мы увидели, что концентрация золота и свинца с прохождением каждого этапа растет, а вот концентрация серебра растет после флотации и падает после прохождения следующих этапов.\n",
    "\n",
    "Мы сравнили распределения размеров гранул сырья на обучающей и тестовой выборках и увидели, что распределеения размеров гранул сырья на обучающей и тестовой выборках очень похожи, а значит, значения этого признака не будут негативно влиять на оценку модели.\n",
    "\n",
    "Мы исследовали суммарную концентрацию всех веществ на разных стадиях: в сырье, в черновом и финальном концентратах и заметили пики около нуля в сырье и черновом концентрате. Нулевые значения, скорее всего, являются ошибкой оператора. Эти данные будут негативно влиять на обучение модели, потому что являются не реальными данными. Мы удалили строки с нулевыми значениями. "
   ]
  },
  {
   "cell_type": "markdown",
   "metadata": {},
   "source": [
    "# 3. Модель"
   ]
  },
  {
   "cell_type": "markdown",
   "metadata": {},
   "source": [
    "Построим модель. <br>\n",
    "Напишем функцию для вычисления итоговой метрики - sMAPE.<br>\n",
    "Обучим разные модели и оценим их качество кросс-валидацией. Выберем лучшую модель и проверим её на тестовой выборке."
   ]
  },
  {
   "cell_type": "markdown",
   "metadata": {},
   "source": [
    "### Функция sMAPE"
   ]
  },
  {
   "cell_type": "code",
   "execution_count": 23,
   "metadata": {},
   "outputs": [],
   "source": [
    "def smape(y_true, y_pred):\n",
    "    return  np.mean(2 * np.abs(y_pred - y_true) / (np.abs(y_true) + np.abs(y_pred))) * 100\n",
    "\n",
    "def full_smape(smape_rougher, smape_final):\n",
    "    return 0.25 * smape_rougher + 0.75 * smape_final\n",
    "\n",
    "custom_scorer = make_scorer(smape, greater_is_better=False)"
   ]
  },
  {
   "cell_type": "markdown",
   "metadata": {},
   "source": [
    "### Деление выборок на target и features"
   ]
  },
  {
   "cell_type": "markdown",
   "metadata": {},
   "source": [
    "Разделим тренировочную и тестовую выборки на признаки и целевые признаки. Напомним, что наши целевые признаки - rougher.output.recovery и final.output.recovery. "
   ]
  },
  {
   "cell_type": "code",
   "execution_count": 24,
   "metadata": {},
   "outputs": [],
   "source": [
    "features_train = data_train.drop(['rougher.output.recovery', 'final.output.recovery'], axis=1)\n",
    "target_rougher_train = data_train['rougher.output.recovery']\n",
    "target_final_train = data_train['final.output.recovery']\n",
    "\n",
    "features_test = data_test.drop(['rougher.output.recovery', 'final.output.recovery'], axis=1)\n",
    "target_rougher_test = data_test['rougher.output.recovery']\n",
    "target_final_test = data_test['final.output.recovery']"
   ]
  },
  {
   "cell_type": "markdown",
   "metadata": {},
   "source": [
    "### Работа с моделью для целевого признака  rougher.output.recovery"
   ]
  },
  {
   "cell_type": "markdown",
   "metadata": {},
   "source": [
    "С помощью кросс-валидации проверим качество нескольких моделей: дерево решений, случайный лес, линейная регрессия."
   ]
  },
  {
   "cell_type": "code",
   "execution_count": 25,
   "metadata": {},
   "outputs": [
    {
     "data": {
      "text/plain": [
       "-20.789457583550085"
      ]
     },
     "execution_count": 25,
     "metadata": {},
     "output_type": "execute_result"
    }
   ],
   "source": [
    "# Дерево решений\n",
    "model_tree = DecisionTreeRegressor(random_state=12)\n",
    "cross_val_score(model_tree, features_train, target_rougher_train, cv=5, scoring=custom_scorer).mean()"
   ]
  },
  {
   "cell_type": "code",
   "execution_count": 26,
   "metadata": {},
   "outputs": [
    {
     "name": "stderr",
     "output_type": "stream",
     "text": [
      "/opt/conda/lib/python3.7/site-packages/sklearn/ensemble/forest.py:245: FutureWarning: The default value of n_estimators will change from 10 in version 0.20 to 100 in 0.22.\n",
      "  \"10 in version 0.20 to 100 in 0.22.\", FutureWarning)\n",
      "/opt/conda/lib/python3.7/site-packages/sklearn/ensemble/forest.py:245: FutureWarning: The default value of n_estimators will change from 10 in version 0.20 to 100 in 0.22.\n",
      "  \"10 in version 0.20 to 100 in 0.22.\", FutureWarning)\n",
      "/opt/conda/lib/python3.7/site-packages/sklearn/ensemble/forest.py:245: FutureWarning: The default value of n_estimators will change from 10 in version 0.20 to 100 in 0.22.\n",
      "  \"10 in version 0.20 to 100 in 0.22.\", FutureWarning)\n",
      "/opt/conda/lib/python3.7/site-packages/sklearn/ensemble/forest.py:245: FutureWarning: The default value of n_estimators will change from 10 in version 0.20 to 100 in 0.22.\n",
      "  \"10 in version 0.20 to 100 in 0.22.\", FutureWarning)\n",
      "/opt/conda/lib/python3.7/site-packages/sklearn/ensemble/forest.py:245: FutureWarning: The default value of n_estimators will change from 10 in version 0.20 to 100 in 0.22.\n",
      "  \"10 in version 0.20 to 100 in 0.22.\", FutureWarning)\n"
     ]
    },
    {
     "data": {
      "text/plain": [
       "-14.325720630770153"
      ]
     },
     "execution_count": 26,
     "metadata": {},
     "output_type": "execute_result"
    }
   ],
   "source": [
    "# Случайный лес\n",
    "model_forest = RandomForestRegressor(random_state=12)\n",
    "cross_val_score(model_forest, features_train, target_rougher_train, cv=5, scoring=custom_scorer).mean()"
   ]
  },
  {
   "cell_type": "code",
   "execution_count": 27,
   "metadata": {},
   "outputs": [
    {
     "data": {
      "text/plain": [
       "-12.337083807369847"
      ]
     },
     "execution_count": 27,
     "metadata": {},
     "output_type": "execute_result"
    }
   ],
   "source": [
    "# Линейная регрессия\n",
    "model_lr = LinearRegression()\n",
    "cross_val_score(model_lr, features_train, target_rougher_train, cv=5, scoring=custom_scorer).mean()"
   ]
  },
  {
   "cell_type": "markdown",
   "metadata": {},
   "source": [
    "Для метрики sMAPE наилучший результат - наиболее близкий к нулю. Мы видим, что линейная регрессия показала себя лучше всего. Параметры линейной регрессии мы не подбираем, поэтому просто оставим эту модель. Проверим работу модели на тестовой выборке и зафиксируем значение. "
   ]
  },
  {
   "cell_type": "code",
   "execution_count": 28,
   "metadata": {},
   "outputs": [
    {
     "data": {
      "text/plain": [
       "9.91097695193762"
      ]
     },
     "execution_count": 28,
     "metadata": {},
     "output_type": "execute_result"
    }
   ],
   "source": [
    "model_lr.fit(features_train, target_rougher_train)\n",
    "predicted = model_lr.predict(features_test)\n",
    "smape_rougher = smape(target_rougher_test, predicted)\n",
    "smape_rougher"
   ]
  },
  {
   "cell_type": "markdown",
   "metadata": {},
   "source": [
    "Сравним значение sMAPE нашей модели с константным значением. Посмотрим общую информацию о распределении признака целевого признака."
   ]
  },
  {
   "cell_type": "code",
   "execution_count": 29,
   "metadata": {},
   "outputs": [
    {
     "data": {
      "text/plain": [
       "count    13754.000000\n",
       "mean        82.920043\n",
       "std         14.436681\n",
       "min          0.000000\n",
       "25%         80.260927\n",
       "50%         85.486305\n",
       "75%         90.264484\n",
       "max        100.000000\n",
       "Name: rougher.output.recovery, dtype: float64"
      ]
     },
     "execution_count": 29,
     "metadata": {},
     "output_type": "execute_result"
    }
   ],
   "source": [
    "target_rougher_train.describe()"
   ]
  },
  {
   "cell_type": "markdown",
   "metadata": {},
   "source": [
    "Среднее и медианное значение, на первый взгляд, не сильно отличаются, но среднее значение гораздо ближе к 25% квантилю, поэтому мы возьмем медианное. Создадим список с константным медианным значением. "
   ]
  },
  {
   "cell_type": "code",
   "execution_count": 30,
   "metadata": {},
   "outputs": [
    {
     "data": {
      "text/plain": [
       "array([85.48630481, 85.48630481, 85.48630481, ..., 85.48630481,\n",
       "       85.48630481, 85.48630481])"
      ]
     },
     "execution_count": 30,
     "metadata": {},
     "output_type": "execute_result"
    }
   ],
   "source": [
    "target_rougher_median = np.array([target_rougher_train.median()] * len(target_rougher_test))\n",
    "target_rougher_median"
   ]
  },
  {
   "cell_type": "markdown",
   "metadata": {},
   "source": [
    "Проверим значение sMAPE для константной модели. "
   ]
  },
  {
   "cell_type": "code",
   "execution_count": 31,
   "metadata": {},
   "outputs": [
    {
     "data": {
      "text/plain": [
       "8.454126775222075"
      ]
     },
     "execution_count": 31,
     "metadata": {},
     "output_type": "execute_result"
    }
   ],
   "source": [
    "smape_rougher_median = smape(target_rougher_test, target_rougher_median)\n",
    "smape_rougher_median"
   ]
  },
  {
   "cell_type": "markdown",
   "metadata": {},
   "source": [
    "### Работа с моделью для целевого признака final.output.recovery"
   ]
  },
  {
   "cell_type": "markdown",
   "metadata": {},
   "source": [
    "С помощью кросс-валидации проверим качество нескольких моделей: дерево решений, случайный лес, линейная регрессия. \n"
   ]
  },
  {
   "cell_type": "code",
   "execution_count": 32,
   "metadata": {},
   "outputs": [
    {
     "data": {
      "text/plain": [
       "-19.54757337525876"
      ]
     },
     "execution_count": 32,
     "metadata": {},
     "output_type": "execute_result"
    }
   ],
   "source": [
    "# Дерево решений\n",
    "model_tree = DecisionTreeRegressor(random_state=12)\n",
    "cross_val_score(model_tree, features_train, target_final_train, cv=5, scoring=custom_scorer).mean()"
   ]
  },
  {
   "cell_type": "code",
   "execution_count": 33,
   "metadata": {},
   "outputs": [
    {
     "name": "stderr",
     "output_type": "stream",
     "text": [
      "/opt/conda/lib/python3.7/site-packages/sklearn/ensemble/forest.py:245: FutureWarning: The default value of n_estimators will change from 10 in version 0.20 to 100 in 0.22.\n",
      "  \"10 in version 0.20 to 100 in 0.22.\", FutureWarning)\n",
      "/opt/conda/lib/python3.7/site-packages/sklearn/ensemble/forest.py:245: FutureWarning: The default value of n_estimators will change from 10 in version 0.20 to 100 in 0.22.\n",
      "  \"10 in version 0.20 to 100 in 0.22.\", FutureWarning)\n",
      "/opt/conda/lib/python3.7/site-packages/sklearn/ensemble/forest.py:245: FutureWarning: The default value of n_estimators will change from 10 in version 0.20 to 100 in 0.22.\n",
      "  \"10 in version 0.20 to 100 in 0.22.\", FutureWarning)\n",
      "/opt/conda/lib/python3.7/site-packages/sklearn/ensemble/forest.py:245: FutureWarning: The default value of n_estimators will change from 10 in version 0.20 to 100 in 0.22.\n",
      "  \"10 in version 0.20 to 100 in 0.22.\", FutureWarning)\n",
      "/opt/conda/lib/python3.7/site-packages/sklearn/ensemble/forest.py:245: FutureWarning: The default value of n_estimators will change from 10 in version 0.20 to 100 in 0.22.\n",
      "  \"10 in version 0.20 to 100 in 0.22.\", FutureWarning)\n"
     ]
    },
    {
     "data": {
      "text/plain": [
       "-12.558879925204884"
      ]
     },
     "execution_count": 33,
     "metadata": {},
     "output_type": "execute_result"
    }
   ],
   "source": [
    "# Случайный лес\n",
    "model_forest = RandomForestRegressor(random_state=12)\n",
    "cross_val_score(model_forest, features_train, target_final_train, cv=5, scoring=custom_scorer).mean()"
   ]
  },
  {
   "cell_type": "code",
   "execution_count": 34,
   "metadata": {},
   "outputs": [
    {
     "data": {
      "text/plain": [
       "-11.282499389851242"
      ]
     },
     "execution_count": 34,
     "metadata": {},
     "output_type": "execute_result"
    }
   ],
   "source": [
    "# Линейная регрессия\n",
    "model_lr = LinearRegression()\n",
    "cross_val_score(model_lr, features_train, target_final_train, cv=5, scoring=custom_scorer).mean()"
   ]
  },
  {
   "cell_type": "markdown",
   "metadata": {},
   "source": [
    "Как и в случае с предыдущим целевым признаком, мы видим, что линейная регрессия показала себя лучше всего. Параметры линейной регрессии мы не подбираем, поэтому просто оставим эту модель. Проверим работу модели на тестовой выборке и зафиксируем значение."
   ]
  },
  {
   "cell_type": "code",
   "execution_count": 35,
   "metadata": {},
   "outputs": [
    {
     "data": {
      "text/plain": [
       "9.288782528608383"
      ]
     },
     "execution_count": 35,
     "metadata": {},
     "output_type": "execute_result"
    }
   ],
   "source": [
    "model_lr.fit(features_train, target_final_train)\n",
    "predicted = model_lr.predict(features_test)\n",
    "smape_final = smape(target_final_test, predicted)\n",
    "smape_final"
   ]
  },
  {
   "cell_type": "markdown",
   "metadata": {},
   "source": [
    "Сравним значение sMAPE нашей модели с константным значением. Посмотрим общую информацию о распределении признака целевого признака."
   ]
  },
  {
   "cell_type": "code",
   "execution_count": 36,
   "metadata": {},
   "outputs": [
    {
     "data": {
      "text/plain": [
       "count    13754.000000\n",
       "mean        66.863242\n",
       "std          9.746011\n",
       "min          0.000000\n",
       "25%         62.906219\n",
       "50%         67.585567\n",
       "75%         72.470767\n",
       "max        100.000000\n",
       "Name: final.output.recovery, dtype: float64"
      ]
     },
     "execution_count": 36,
     "metadata": {},
     "output_type": "execute_result"
    }
   ],
   "source": [
    "target_final_train.describe()"
   ]
  },
  {
   "cell_type": "markdown",
   "metadata": {},
   "source": [
    "Как и в случае с первым признаком, надежнее будет использовать медианное значение. "
   ]
  },
  {
   "cell_type": "code",
   "execution_count": 37,
   "metadata": {},
   "outputs": [
    {
     "data": {
      "text/plain": [
       "array([67.58556712, 67.58556712, 67.58556712, ..., 67.58556712,\n",
       "       67.58556712, 67.58556712])"
      ]
     },
     "execution_count": 37,
     "metadata": {},
     "output_type": "execute_result"
    }
   ],
   "source": [
    "target_final_median = np.array([target_final_train.median()] * len(target_final_test))\n",
    "target_final_median"
   ]
  },
  {
   "cell_type": "markdown",
   "metadata": {},
   "source": [
    "Проверим значение sMAPE для константной модели."
   ]
  },
  {
   "cell_type": "code",
   "execution_count": 38,
   "metadata": {},
   "outputs": [
    {
     "data": {
      "text/plain": [
       "28.161708976465206"
      ]
     },
     "execution_count": 38,
     "metadata": {},
     "output_type": "execute_result"
    }
   ],
   "source": [
    "smape_final_median = smape(target_rougher_test, target_final_median)\n",
    "smape_final_median"
   ]
  },
  {
   "cell_type": "markdown",
   "metadata": {},
   "source": [
    "Значение константной модели значительно выше значения нашей модели (на 19 пунктов). Значит, работа нашей модели имеет смысл. Посчитаем финальный показатель sMAPE моделей для предсказания двух признаков. "
   ]
  },
  {
   "cell_type": "code",
   "execution_count": 39,
   "metadata": {},
   "outputs": [
    {
     "data": {
      "text/plain": [
       "9.444331134440691"
      ]
     },
     "execution_count": 39,
     "metadata": {},
     "output_type": "execute_result"
    }
   ],
   "source": [
    "full_smape(smape_rougher, smape_final)"
   ]
  },
  {
   "cell_type": "markdown",
   "metadata": {},
   "source": [
    "# Вывод"
   ]
  },
  {
   "cell_type": "markdown",
   "metadata": {},
   "source": [
    "С помощью кросс-валидации мы проанализировали значения кастомной метрики sMAPE для различных моделей и выбрали лучшую модель. Ей оказалась линейная регрессия. Итоговое значение sMAPE по признакам rougher и final получилось 9.4. "
   ]
  },
  {
   "cell_type": "markdown",
   "metadata": {},
   "source": [
    "# Общий вывод"
   ]
  },
  {
   "cell_type": "markdown",
   "metadata": {},
   "source": [
    "Мы загрузили данные, проверили верность расчетов целевых признаков, удалили лишние столбцы в выборках, добавили нужные. Удалили строки с пропусками в целевых признаках и заполнили пропуски в остальных признаках.\n",
    "\n",
    "Мы посмотрели, как меняется концентрация металлов (Au, Ag, Pb) на различных этапах очистки. Мы увидели, что концентрация золота и свинца с прохождением каждого этапа растет, а вот концентрация серебра растет после флотации и падает после прохождения следующих этапов.\n",
    "\n",
    "Мы сравнили распределения размеров гранул сырья на обучающей и тестовой выборках и увидели, что распределеения размеров гранул сырья на обучающей и тестовой выборках очень похожи, а значит, значения этого признака не будут негативно влиять на оценку модели.\n",
    "\n",
    "Мы исследовали суммарную концентрацию всех веществ на разных стадиях: в сырье, в черновом и финальном концентратах и заметили пики около нуля в сырье и черновом концентрате. Нулевые значения, скорее всего, являются ошибкой оператора. Эти данные будут негативно влиять на обучение модели, потому что являются не реальными данными. Мы удалили строки с нулевыми значениями.\n",
    "\n",
    "С помощью кросс-валидации мы проанализировали значения кастомной метрики sMAPE для различных моделей и выбрали лучшую модель. Ей оказалась линейная регрессия. Итоговое значение sMAPE по признакам rougher и final получилось 9.4."
   ]
  }
 ],
 "metadata": {
  "kernelspec": {
   "display_name": "Python 3",
   "language": "python",
   "name": "python3"
  },
  "language_info": {
   "codemirror_mode": {
    "name": "ipython",
    "version": 3
   },
   "file_extension": ".py",
   "mimetype": "text/x-python",
   "name": "python",
   "nbconvert_exporter": "python",
   "pygments_lexer": "ipython3",
   "version": "3.7.6"
  }
 },
 "nbformat": 4,
 "nbformat_minor": 2
}
